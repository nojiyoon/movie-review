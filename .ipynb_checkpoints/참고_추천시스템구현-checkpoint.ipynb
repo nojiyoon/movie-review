{
 "cells": [
  {
   "cell_type": "code",
   "execution_count": 5,
   "metadata": {},
   "outputs": [],
   "source": [
    "import pandas as pd\n",
    "pd.set_option('display.max_row', 500)\n",
    "pd.set_option('display.max_columns', 100)\n",
    "import numpy as np\n",
    "# np.set_printoptions(threshold=sys.maxsize)\n",
    "# import sys\n",
    "import gensim\n",
    "from gensim.models import Word2Vec\n",
    "from konlpy.tag import Okt # 옛날 Twitter 클래스\n",
    "okt = Okt()\n",
    "import pickle"
   ]
  },
  {
   "cell_type": "code",
   "execution_count": 7,
   "metadata": {},
   "outputs": [
    {
     "ename": "AttributeError",
     "evalue": "module 'gensim.models' has no attribute 'wv'",
     "output_type": "error",
     "traceback": [
      "\u001b[0;31m---------------------------------------------------------------------------\u001b[0m",
      "\u001b[0;31mAttributeError\u001b[0m                            Traceback (most recent call last)",
      "\u001b[0;32m/var/folders/nd/b06d_kb967j1803rw8hl2vdc0000gn/T/ipykernel_11397/1080721361.py\u001b[0m in \u001b[0;36m<module>\u001b[0;34m\u001b[0m\n\u001b[1;32m      1\u001b[0m \u001b[0;31m# Word2Vec 모델 불러오기\u001b[0m\u001b[0;34m\u001b[0m\u001b[0;34m\u001b[0m\u001b[0m\n\u001b[0;32m----> 2\u001b[0;31m \u001b[0membedding_model\u001b[0m \u001b[0;34m=\u001b[0m \u001b[0mgensim\u001b[0m\u001b[0;34m.\u001b[0m\u001b[0mmodels\u001b[0m\u001b[0;34m.\u001b[0m\u001b[0mwv\u001b[0m\u001b[0;34m.\u001b[0m\u001b[0mload\u001b[0m\u001b[0;34m(\u001b[0m\u001b[0;34m'word2VecModel'\u001b[0m\u001b[0;34m)\u001b[0m\u001b[0;34m\u001b[0m\u001b[0;34m\u001b[0m\u001b[0m\n\u001b[0m",
      "\u001b[0;31mAttributeError\u001b[0m: module 'gensim.models' has no attribute 'wv'"
     ]
    }
   ],
   "source": [
    "# Word2Vec 모델 불러오기\n",
    "embedding_model = gensim.models.Word2Vec.load('word2VecModel')"
   ]
  },
  {
   "cell_type": "code",
   "execution_count": 3,
   "metadata": {},
   "outputs": [
    {
     "data": {
      "text/plain": [
       "['떠올리다',\n",
       " '애틋하다',\n",
       " '추억',\n",
       " '첫사랑',\n",
       " '시절',\n",
       " '설레다',\n",
       " '떠오르다',\n",
       " '달콤하다',\n",
       " '슬프다',\n",
       " '아프다',\n",
       " '잊다',\n",
       " '풋풋하다',\n",
       " '그리움',\n",
       " '아려',\n",
       " '쓸쓸하다',\n",
       " '잔잔하다',\n",
       " '여운',\n",
       " '회상',\n",
       " '잠기다',\n",
       " '싱그럽다',\n",
       " '생각나다',\n",
       " '어린시절',\n",
       " '슬픔',\n",
       " '향수',\n",
       " '설레임',\n",
       " '감성',\n",
       " '진하다',\n",
       " '새록새록',\n",
       " '아름답다',\n",
       " '기억',\n",
       " '꺼내다']"
      ]
     },
     "execution_count": 3,
     "metadata": {},
     "output_type": "execute_result"
    }
   ],
   "source": [
    "keyword = input(\"키워드 입력 : \") #로맨틱 #아련한\n",
    "keyword = okt.morphs(keyword, stem=True)\n",
    "FirstKeyword = keyword[0]\n",
    "\n",
    "# check embedding result\n",
    "VecWords = embedding_model.most_similar(positive=[FirstKeyword], topn=100)\n",
    "Veclist1 = []\n",
    "for i in range(0,31):\n",
    "    Veclist1.append(VecWords[i][0])\n",
    "Veclist1"
   ]
  },
  {
   "cell_type": "code",
   "execution_count": 4,
   "metadata": {},
   "outputs": [
    {
     "data": {
      "text/plain": [
       "['떠올리다', '애틋하다', '추억', '첫사랑', '시절', '설레다', '떠오르다', '달콤하다', '슬프다', '아프다']"
      ]
     },
     "execution_count": 4,
     "metadata": {},
     "output_type": "execute_result"
    }
   ],
   "source": [
    "Veclist1[:10]"
   ]
  },
  {
   "cell_type": "code",
   "execution_count": 5,
   "metadata": {},
   "outputs": [
    {
     "data": {
      "text/plain": [
       "['깊다',\n",
       " '남기다',\n",
       " '진하다',\n",
       " '감동',\n",
       " '감명',\n",
       " '마지막',\n",
       " '잔잔하다',\n",
       " '잠기',\n",
       " '가슴속',\n",
       " '쓸쓸하다',\n",
       " '찡하다',\n",
       " '느끼다',\n",
       " '남고',\n",
       " '울리다',\n",
       " '슬픔',\n",
       " '아련하다',\n",
       " '깊이',\n",
       " '음악',\n",
       " '마음',\n",
       " '슬프다',\n",
       " '수작',\n",
       " '난후',\n",
       " '울림',\n",
       " '충격',\n",
       " '풍경',\n",
       " '닿다',\n",
       " '곱씹다',\n",
       " '다가오다',\n",
       " '애틋하다',\n",
       " '묵직하다',\n",
       " '아름답다']"
      ]
     },
     "execution_count": 5,
     "metadata": {},
     "output_type": "execute_result"
    }
   ],
   "source": [
    "keyword = input(\"키워드 선택 : \") # 잘생기다 #여운\n",
    "keyword = okt.morphs(keyword, stem=True)\n",
    "SecondKeyword = keyword[0]\n",
    "\n",
    "# check embedding result\n",
    "VecWords = embedding_model.most_similar(positive=[SecondKeyword], topn=100)\n",
    "Veclist2 = []\n",
    "for i in range(0,31):\n",
    "    Veclist2.append(VecWords[i][0])\n",
    "Veclist2"
   ]
  },
  {
   "cell_type": "code",
   "execution_count": 6,
   "metadata": {},
   "outputs": [
    {
     "data": {
      "text/plain": [
       "['깊다',\n",
       " '차분하다',\n",
       " '잔잔하다',\n",
       " '진하다',\n",
       " '다가오다',\n",
       " '깊이',\n",
       " '따뜻하다',\n",
       " '아름답다',\n",
       " '묵묵하다',\n",
       " '아리다',\n",
       " '메세지',\n",
       " '관조',\n",
       " '감동',\n",
       " '녹다',\n",
       " '울리다',\n",
       " '닿다',\n",
       " '묵직하다',\n",
       " '여운',\n",
       " '질문',\n",
       " '뜨겁다',\n",
       " '따스하다',\n",
       " '담담하다',\n",
       " '서정',\n",
       " '소박하다',\n",
       " '감사하다',\n",
       " '가슴속',\n",
       " '전달',\n",
       " '조용하다',\n",
       " '애잔하다',\n",
       " '섬세하다',\n",
       " '커다랗다']"
      ]
     },
     "execution_count": 6,
     "metadata": {},
     "output_type": "execute_result"
    }
   ],
   "source": [
    "keyword = input(\"키워드 선택 : \") # 매력 #울림\n",
    "keyword = okt.morphs(keyword, stem=True)\n",
    "ThirdKeyword = keyword[0]\n",
    "\n",
    "# check embedding result\n",
    "VecWords = embedding_model.most_similar(positive=[ThirdKeyword], topn=100)\n",
    "Veclist3 = []\n",
    "for i in range(0,31):\n",
    "    Veclist3.append(VecWords[i][0])\n",
    "Veclist3"
   ]
  },
  {
   "cell_type": "code",
   "execution_count": 7,
   "metadata": {},
   "outputs": [
    {
     "data": {
      "text/plain": [
       "47"
      ]
     },
     "execution_count": 7,
     "metadata": {},
     "output_type": "execute_result"
    }
   ],
   "source": [
    "myVec = ([FirstKeyword]+Veclist1[:10])*2 + ([SecondKeyword]+Veclist2[:5])*2 + [ThirdKeyword] + Veclist3[:5]\n",
    "myVec2 = [FirstKeyword]*3+Veclist1+[SecondKeyword]*2+Veclist2[:5]+[ThirdKeyword] + Veclist3[:5]\n",
    "len(myVec2)"
   ]
  },
  {
   "cell_type": "code",
   "execution_count": 8,
   "metadata": {},
   "outputs": [
    {
     "data": {
      "text/plain": [
       "['아련하다',\n",
       " '아련하다',\n",
       " '아련하다',\n",
       " '떠올리다',\n",
       " '애틋하다',\n",
       " '추억',\n",
       " '첫사랑',\n",
       " '시절',\n",
       " '설레다',\n",
       " '떠오르다',\n",
       " '달콤하다',\n",
       " '슬프다',\n",
       " '아프다',\n",
       " '잊다',\n",
       " '풋풋하다',\n",
       " '그리움',\n",
       " '아려',\n",
       " '쓸쓸하다',\n",
       " '잔잔하다',\n",
       " '여운',\n",
       " '회상',\n",
       " '잠기다',\n",
       " '싱그럽다',\n",
       " '생각나다',\n",
       " '어린시절',\n",
       " '슬픔',\n",
       " '향수',\n",
       " '설레임',\n",
       " '감성',\n",
       " '진하다',\n",
       " '새록새록',\n",
       " '아름답다',\n",
       " '기억',\n",
       " '꺼내다',\n",
       " '여운',\n",
       " '여운',\n",
       " '깊다',\n",
       " '남기다',\n",
       " '진하다',\n",
       " '감동',\n",
       " '감명',\n",
       " '울림',\n",
       " '깊다',\n",
       " '차분하다',\n",
       " '잔잔하다',\n",
       " '진하다',\n",
       " '다가오다']"
      ]
     },
     "execution_count": 8,
     "metadata": {},
     "output_type": "execute_result"
    }
   ],
   "source": [
    "myVec2"
   ]
  },
  {
   "cell_type": "code",
   "execution_count": 19,
   "metadata": {
    "tags": []
   },
   "outputs": [],
   "source": [
    "# load pickle\n",
    "# with open('chat_dict.pickle', 'rb') as f:\n",
    "#     movie_dict = pickle.load(f)\n",
    "\n",
    "# 리뷰 딕셔너리를 데이터프레임으로 만들기\n",
    "\n",
    "# Dict_to_Df = pd.DataFrame(columns=[\"영화명\",\"리뷰\"])\n",
    "# movieSentences = pd.Series()\n",
    "# for key in movie_dict:\n",
    "#         for i in movie_dict.get(key):\n",
    "#             if i != \"\":\n",
    "#                 mydf = pd.Series([key,i], index=[\"영화명\",\"리뷰\"])\n",
    "#                 Dict_to_Df = Dict_to_Df.append(mydf, ignore_index=True)\n",
    "\n",
    "# 저장\n",
    "# Dict_to_Df.to_csv(\"리뷰코사인을위한데이터테이블.csv\",index=False)"
   ]
  },
  {
   "cell_type": "code",
   "execution_count": 48,
   "metadata": {},
   "outputs": [
    {
     "data": {
      "text/html": [
       "<div>\n",
       "<style scoped>\n",
       "    .dataframe tbody tr th:only-of-type {\n",
       "        vertical-align: middle;\n",
       "    }\n",
       "\n",
       "    .dataframe tbody tr th {\n",
       "        vertical-align: top;\n",
       "    }\n",
       "\n",
       "    .dataframe thead th {\n",
       "        text-align: right;\n",
       "    }\n",
       "</style>\n",
       "<table border=\"1\" class=\"dataframe\">\n",
       "  <thead>\n",
       "    <tr style=\"text-align: right;\">\n",
       "      <th></th>\n",
       "      <th>영화명</th>\n",
       "      <th>리뷰</th>\n",
       "    </tr>\n",
       "  </thead>\n",
       "  <tbody>\n",
       "    <tr>\n",
       "      <th>0</th>\n",
       "      <td>카오산 탱고</td>\n",
       "      <td>카오산 가고싶은 영화옛사랑 떠올리는 영화카오산로드에서 술한잔먹으며 옛사랑 떠올리는 영화</td>\n",
       "    </tr>\n",
       "    <tr>\n",
       "      <th>1</th>\n",
       "      <td>욕창</td>\n",
       "      <td>저는 춤추는 장면이 마음에 남아요</td>\n",
       "    </tr>\n",
       "    <tr>\n",
       "      <th>2</th>\n",
       "      <td>바다로 가자</td>\n",
       "      <td>아 이런 아픔을 공유한 사람이 나뿐만이 아니구나</td>\n",
       "    </tr>\n",
       "    <tr>\n",
       "      <th>3</th>\n",
       "      <td>국도극장</td>\n",
       "      <td>장면 하나하나가 마치 액자처럼 담백했어요 오씨처럼 살아가면 벌교에선 죽음 마저 평화...</td>\n",
       "    </tr>\n",
       "    <tr>\n",
       "      <th>4</th>\n",
       "      <td>국도극장</td>\n",
       "      <td>영화라기보다 그럭저럭한 티비 드라마</td>\n",
       "    </tr>\n",
       "    <tr>\n",
       "      <th>...</th>\n",
       "      <td>...</td>\n",
       "      <td>...</td>\n",
       "    </tr>\n",
       "    <tr>\n",
       "      <th>31655</th>\n",
       "      <td>미트 페어런츠</td>\n",
       "      <td>유쾌하게 볼 수 있는 영화라는데 전적으로 공감</td>\n",
       "    </tr>\n",
       "    <tr>\n",
       "      <th>31656</th>\n",
       "      <td>미트 페어런츠</td>\n",
       "      <td>그냥 웃긴 시트콤 정도네요</td>\n",
       "    </tr>\n",
       "    <tr>\n",
       "      <th>31657</th>\n",
       "      <td>쥬브나일</td>\n",
       "      <td>왠지 일본과 SF영화는 별루 안맞는거 같은데</td>\n",
       "    </tr>\n",
       "    <tr>\n",
       "      <th>31658</th>\n",
       "      <td>쥬브나일</td>\n",
       "      <td>이거 싱고나오는 일본 SF</td>\n",
       "    </tr>\n",
       "    <tr>\n",
       "      <th>31659</th>\n",
       "      <td>이유없는 반항</td>\n",
       "      <td>2001년 영화인데 80년대영화느낌</td>\n",
       "    </tr>\n",
       "  </tbody>\n",
       "</table>\n",
       "<p>31660 rows × 2 columns</p>\n",
       "</div>"
      ],
      "text/plain": [
       "           영화명                                                 리뷰\n",
       "0       카오산 탱고   카오산 가고싶은 영화옛사랑 떠올리는 영화카오산로드에서 술한잔먹으며 옛사랑 떠올리는 영화\n",
       "1           욕창                                 저는 춤추는 장면이 마음에 남아요\n",
       "2       바다로 가자                         아 이런 아픔을 공유한 사람이 나뿐만이 아니구나\n",
       "3         국도극장  장면 하나하나가 마치 액자처럼 담백했어요 오씨처럼 살아가면 벌교에선 죽음 마저 평화...\n",
       "4         국도극장                                영화라기보다 그럭저럭한 티비 드라마\n",
       "...        ...                                                ...\n",
       "31655  미트 페어런츠                          유쾌하게 볼 수 있는 영화라는데 전적으로 공감\n",
       "31656  미트 페어런츠                                     그냥 웃긴 시트콤 정도네요\n",
       "31657     쥬브나일                           왠지 일본과 SF영화는 별루 안맞는거 같은데\n",
       "31658     쥬브나일                                     이거 싱고나오는 일본 SF\n",
       "31659  이유없는 반항                                2001년 영화인데 80년대영화느낌\n",
       "\n",
       "[31660 rows x 2 columns]"
      ]
     },
     "execution_count": 48,
     "metadata": {},
     "output_type": "execute_result"
    }
   ],
   "source": [
    "# mymy['리뷰'].str.len().median() #13\n",
    "# mymyCut =mymy[(mymy['리뷰'].str.len()>12)&(mymy['리뷰'].str.len()<70)]\n",
    "# mymyCut.reset_index( inplace=True, drop=True )\n",
    "# mymyCut"
   ]
  },
  {
   "cell_type": "code",
   "execution_count": 101,
   "metadata": {},
   "outputs": [],
   "source": [
    "# 스탑워즈 불러오기\n",
    "# df = pd.read_csv(\"stopwords728_8.txt\")\n",
    "# stopwords = df.iloc[:,0].unique()\n",
    "# okt = Okt()\n",
    "# mymyCut['word'] = 0\n",
    "# for i in range(0, len(mymyCut)):\n",
    "#     daumReview = mymyCut['리뷰'][i]\n",
    "#     # # 정제된 리뷰로 형태소 테이블 만들기\n",
    "#     sampledf = pd.DataFrame(okt.pos(daumReview, norm=True, stem=True))\n",
    "#     # print(sampledf[1])\n",
    "#     # # 명사, 형용사, 동사만 추출하기\n",
    "#     try:\n",
    "#         sampledf = sampledf[(sampledf[1]=='Noun')|(sampledf[1]=='Adjective')|(sampledf[1]=='Verb')]\n",
    "#         # # 2글자 이상인 단어만 가져와서 리스트 만들기\n",
    "#         spword =\"\"\n",
    "#         for word in sampledf[0]:\n",
    "#             if len(word)>=2:\n",
    "#                 if word not in (stopwords): # 스탑워즈 제외하고 출력하기\n",
    "#                     spword += word\n",
    "#                     spword += \" \"\n",
    "#         # 단어별 등장횟수 세기\n",
    "#         mymyCut['word'][i] = spword\n",
    "#     except KeyError:\n",
    "#         mymyCut['word'][i] = \"\""
   ]
  },
  {
   "cell_type": "code",
   "execution_count": 125,
   "metadata": {},
   "outputs": [],
   "source": [
    "# mymyCut = mymyCut.iloc[:-1,:]"
   ]
  },
  {
   "cell_type": "code",
   "execution_count": 13,
   "metadata": {},
   "outputs": [],
   "source": [
    "# mymyCut.to_csv(\"리뷰코사인을위한데이터테이블2.csv\",index=False)\n",
    "# mymyCut = pd.read_csv(\"리뷰코사인을위한데이터테이블2.csv\")\n",
    "# mymyCut = mymyCut[mymyCut['word'].notnull()]"
   ]
  },
  {
   "cell_type": "code",
   "execution_count": 9,
   "metadata": {},
   "outputs": [],
   "source": [
    "# mymyCut.to_csv('리뷰코사인을위한데이터테이블3.csv', encoding='utf-8-sig', index=False)\n",
    "mymyCut = pd.read_csv(\"리뷰코사인을위한데이터테이블3.csv\")"
   ]
  },
  {
   "cell_type": "code",
   "execution_count": 10,
   "metadata": {},
   "outputs": [
    {
     "data": {
      "text/html": [
       "<div>\n",
       "<style scoped>\n",
       "    .dataframe tbody tr th:only-of-type {\n",
       "        vertical-align: middle;\n",
       "    }\n",
       "\n",
       "    .dataframe tbody tr th {\n",
       "        vertical-align: top;\n",
       "    }\n",
       "\n",
       "    .dataframe thead th {\n",
       "        text-align: right;\n",
       "    }\n",
       "</style>\n",
       "<table border=\"1\" class=\"dataframe\">\n",
       "  <thead>\n",
       "    <tr style=\"text-align: right;\">\n",
       "      <th></th>\n",
       "      <th>영화명</th>\n",
       "      <th>리뷰</th>\n",
       "      <th>word</th>\n",
       "    </tr>\n",
       "  </thead>\n",
       "  <tbody>\n",
       "    <tr>\n",
       "      <th>0</th>\n",
       "      <td>카오산 탱고</td>\n",
       "      <td>카오산 가고싶은 영화옛사랑 떠올리는 영화카오산로드에서 술한잔먹으며 옛사랑 떠올리는 영화</td>\n",
       "      <td>옛사랑 떠올리다 한잔 옛사랑 떠올리다</td>\n",
       "    </tr>\n",
       "    <tr>\n",
       "      <th>1</th>\n",
       "      <td>욕창</td>\n",
       "      <td>저는 춤추는 장면이 마음에 남아요</td>\n",
       "      <td>춤추다 마음</td>\n",
       "    </tr>\n",
       "    <tr>\n",
       "      <th>2</th>\n",
       "      <td>바다로 가자</td>\n",
       "      <td>아 이런 아픔을 공유한 사람이 나뿐만이 아니구나</td>\n",
       "      <td>아픔</td>\n",
       "    </tr>\n",
       "    <tr>\n",
       "      <th>3</th>\n",
       "      <td>국도극장</td>\n",
       "      <td>장면 하나하나가 마치 액자처럼 담백했어요 오씨처럼 살아가면 벌교에선 죽음 마저 평화...</td>\n",
       "      <td>액자 담백하다 살아가다 벌교 죽음 평화롭다</td>\n",
       "    </tr>\n",
       "    <tr>\n",
       "      <th>4</th>\n",
       "      <td>국도극장</td>\n",
       "      <td>작품도 배우들 연기도 참 좋다</td>\n",
       "      <td>좋다</td>\n",
       "    </tr>\n",
       "    <tr>\n",
       "      <th>...</th>\n",
       "      <td>...</td>\n",
       "      <td>...</td>\n",
       "      <td>...</td>\n",
       "    </tr>\n",
       "    <tr>\n",
       "      <th>30553</th>\n",
       "      <td>미트 페어런츠</td>\n",
       "      <td>제시카알바덕에 5점입니다 고갱님</td>\n",
       "      <td>제시카알바 고갱</td>\n",
       "    </tr>\n",
       "    <tr>\n",
       "      <th>30554</th>\n",
       "      <td>미트 페어런츠</td>\n",
       "      <td>유쾌하게 볼 수 있는 영화라는데 전적으로 공감</td>\n",
       "      <td>유쾌하다 공감</td>\n",
       "    </tr>\n",
       "    <tr>\n",
       "      <th>30555</th>\n",
       "      <td>미트 페어런츠</td>\n",
       "      <td>그냥 웃긴 시트콤 정도네요</td>\n",
       "      <td>웃기다 시트콤</td>\n",
       "    </tr>\n",
       "    <tr>\n",
       "      <th>30556</th>\n",
       "      <td>쥬브나일</td>\n",
       "      <td>왠지 일본과 SF영화는 별루 안맞는거 같은데</td>\n",
       "      <td>일본</td>\n",
       "    </tr>\n",
       "    <tr>\n",
       "      <th>30557</th>\n",
       "      <td>쥬브나일</td>\n",
       "      <td>이거 싱고나오는 일본 SF</td>\n",
       "      <td>일본</td>\n",
       "    </tr>\n",
       "  </tbody>\n",
       "</table>\n",
       "<p>30558 rows × 3 columns</p>\n",
       "</div>"
      ],
      "text/plain": [
       "           영화명                                                 리뷰  \\\n",
       "0       카오산 탱고   카오산 가고싶은 영화옛사랑 떠올리는 영화카오산로드에서 술한잔먹으며 옛사랑 떠올리는 영화   \n",
       "1           욕창                                 저는 춤추는 장면이 마음에 남아요   \n",
       "2       바다로 가자                         아 이런 아픔을 공유한 사람이 나뿐만이 아니구나   \n",
       "3         국도극장  장면 하나하나가 마치 액자처럼 담백했어요 오씨처럼 살아가면 벌교에선 죽음 마저 평화...   \n",
       "4         국도극장                                   작품도 배우들 연기도 참 좋다   \n",
       "...        ...                                                ...   \n",
       "30553  미트 페어런츠                                  제시카알바덕에 5점입니다 고갱님   \n",
       "30554  미트 페어런츠                          유쾌하게 볼 수 있는 영화라는데 전적으로 공감   \n",
       "30555  미트 페어런츠                                     그냥 웃긴 시트콤 정도네요   \n",
       "30556     쥬브나일                           왠지 일본과 SF영화는 별루 안맞는거 같은데   \n",
       "30557     쥬브나일                                     이거 싱고나오는 일본 SF   \n",
       "\n",
       "                           word  \n",
       "0         옛사랑 떠올리다 한잔 옛사랑 떠올리다   \n",
       "1                       춤추다 마음   \n",
       "2                           아픔   \n",
       "3      액자 담백하다 살아가다 벌교 죽음 평화롭다   \n",
       "4                           좋다   \n",
       "...                         ...  \n",
       "30553                 제시카알바 고갱   \n",
       "30554                  유쾌하다 공감   \n",
       "30555                  웃기다 시트콤   \n",
       "30556                       일본   \n",
       "30557                       일본   \n",
       "\n",
       "[30558 rows x 3 columns]"
      ]
     },
     "execution_count": 10,
     "metadata": {},
     "output_type": "execute_result"
    }
   ],
   "source": [
    "mymyCut"
   ]
  },
  {
   "cell_type": "markdown",
   "metadata": {},
   "source": [
    "<h2>코사인 유사도"
   ]
  },
  {
   "cell_type": "code",
   "execution_count": 11,
   "metadata": {
    "tags": []
   },
   "outputs": [
    {
     "data": {
      "text/plain": [
       "'아련하다 아련하다 아련하다 떠올리다 애틋하다 추억 첫사랑 시절 설레다 떠오르다 달콤하다 슬프다 아프다 잊다 풋풋하다 그리움 아려 쓸쓸하다 잔잔하다 여운 회상 잠기다 싱그럽다 생각나다 어린시절 슬픔 향수 설레임 감성 진하다 새록새록 아름답다 기억 꺼내다 여운 여운 깊다 남기다 진하다 감동 감명 울림 깊다 차분하다 잔잔하다 진하다 다가오다 '"
      ]
     },
     "execution_count": 11,
     "metadata": {},
     "output_type": "execute_result"
    }
   ],
   "source": [
    "mysent=\"\"\n",
    "for i in myVec2:\n",
    "    mysent += \"\".join(i)\n",
    "    mysent += \" \"\n",
    "mysent"
   ]
  },
  {
   "cell_type": "code",
   "execution_count": 12,
   "metadata": {},
   "outputs": [
    {
     "data": {
      "text/plain": [
       "영화명                                                    입력\n",
       "리뷰      아련하다 아련하다 아련하다 떠올리다 애틋하다 추억 첫사랑 시절 설레다 떠오르다 달콤...\n",
       "word    아련하다 아련하다 아련하다 떠올리다 애틋하다 추억 첫사랑 시절 설레다 떠오르다 달콤...\n",
       "Name: 30558, dtype: object"
      ]
     },
     "execution_count": 12,
     "metadata": {},
     "output_type": "execute_result"
    }
   ],
   "source": [
    "mydf = pd.Series(['입력',mysent,mysent], index=[\"영화명\",\"리뷰\",\"word\"])\n",
    "mymyCut = mymyCut.append(mydf, ignore_index=True)\n",
    "mymyCut.iloc[-1,:]"
   ]
  },
  {
   "cell_type": "code",
   "execution_count": 13,
   "metadata": {},
   "outputs": [],
   "source": [
    "# TFIDF구하기\n",
    "from sklearn.feature_extraction.text import TfidfVectorizer\n",
    "\n",
    "Tfidf = TfidfVectorizer()\n",
    "Tfidf_matrix = Tfidf.fit_transform(mymyCut['word'])"
   ]
  },
  {
   "cell_type": "code",
   "execution_count": 14,
   "metadata": {
    "tags": []
   },
   "outputs": [
    {
     "name": "stdout",
     "output_type": "stream",
     "text": [
      "(30559, 13467)\n"
     ]
    }
   ],
   "source": [
    "print(Tfidf_matrix.shape) # shape 확인"
   ]
  },
  {
   "cell_type": "code",
   "execution_count": 15,
   "metadata": {},
   "outputs": [],
   "source": [
    "from sklearn.metrics.pairwise import linear_kernel\n",
    "cosine_sim = linear_kernel(Tfidf_matrix, Tfidf_matrix)"
   ]
  },
  {
   "cell_type": "code",
   "execution_count": 16,
   "metadata": {},
   "outputs": [],
   "source": [
    "# 제목별 인덱스숫자 테이블 만들기\n",
    "# indices = pd.Series(data.index, index=mymyCut['리뷰']).drop_duplicates()\n",
    "# 추천 함수 생성\n",
    "def getRecommendation1(cosine_sim= cosine_sim):\n",
    "    # idx = indices[title]\n",
    "    simScores = list(enumerate(cosine_sim[-1])) #코사인유사도\n",
    "    # simScores : 튜플 (인덱스,코사인유사도)\n",
    "    simScores = sorted(simScores, key=lambda x: x[1] ,reverse=True)\n",
    "    # 코사인유사도 기준 내림차순 정렬된 튜플중 자기 제외하고 20개 뽑음\n",
    "    simScores = simScores[1:21]\n",
    "    # 상위 20개 영화의 인덱스값 저장\n",
    "    movieidx = [i[0] for i in simScores]\n",
    "    RecMovielist = mymyCut.iloc[movieidx] \n",
    "    return RecMovielist[['영화명','리뷰']]"
   ]
  },
  {
   "cell_type": "code",
   "execution_count": 17,
   "metadata": {},
   "outputs": [
    {
     "data": {
      "text/html": [
       "<div>\n",
       "<style scoped>\n",
       "    .dataframe tbody tr th:only-of-type {\n",
       "        vertical-align: middle;\n",
       "    }\n",
       "\n",
       "    .dataframe tbody tr th {\n",
       "        vertical-align: top;\n",
       "    }\n",
       "\n",
       "    .dataframe thead th {\n",
       "        text-align: right;\n",
       "    }\n",
       "</style>\n",
       "<table border=\"1\" class=\"dataframe\">\n",
       "  <thead>\n",
       "    <tr style=\"text-align: right;\">\n",
       "      <th></th>\n",
       "      <th>영화명</th>\n",
       "      <th>리뷰</th>\n",
       "    </tr>\n",
       "  </thead>\n",
       "  <tbody>\n",
       "    <tr>\n",
       "      <th>17554</th>\n",
       "      <td>할머니는 일학년</td>\n",
       "      <td>진한 감동의 여운이 잔잔하게 밀려드는 영화</td>\n",
       "    </tr>\n",
       "    <tr>\n",
       "      <th>5678</th>\n",
       "      <td>루터</td>\n",
       "      <td>마음에 진한 감동과 여운이 남는 영화네요</td>\n",
       "    </tr>\n",
       "    <tr>\n",
       "      <th>16754</th>\n",
       "      <td>늑대소년</td>\n",
       "      <td>동화같은 영화 보고나면 진한 여운이 가득 남는다</td>\n",
       "    </tr>\n",
       "    <tr>\n",
       "      <th>24096</th>\n",
       "      <td>연을 쫓는 아이</td>\n",
       "      <td>연은 서로를 이어주는 피보다 진한 것이였다</td>\n",
       "    </tr>\n",
       "    <tr>\n",
       "      <th>10547</th>\n",
       "      <td>우먼 인 골드</td>\n",
       "      <td>진한 여운을 주는 예술 영화 추천합니다</td>\n",
       "    </tr>\n",
       "    <tr>\n",
       "      <th>28323</th>\n",
       "      <td>거미숲</td>\n",
       "      <td>아련하기도 하고 정말 인상깊은 공포영화</td>\n",
       "    </tr>\n",
       "    <tr>\n",
       "      <th>23079</th>\n",
       "      <td>더 폴: 오디어스와 환상의 문</td>\n",
       "      <td>아름다운영상 아련한이야기</td>\n",
       "    </tr>\n",
       "    <tr>\n",
       "      <th>25171</th>\n",
       "      <td>초속5센티미터</td>\n",
       "      <td>첫사랑의  아련한  기억</td>\n",
       "    </tr>\n",
       "    <tr>\n",
       "      <th>27956</th>\n",
       "      <td>클로저</td>\n",
       "      <td>우연히 보게됐지만 깊은 여운을 남겼다</td>\n",
       "    </tr>\n",
       "    <tr>\n",
       "      <th>30513</th>\n",
       "      <td>번지점프를 하다</td>\n",
       "      <td>여운이 깊게 남는 아름다운 영화</td>\n",
       "    </tr>\n",
       "    <tr>\n",
       "      <th>7850</th>\n",
       "      <td>춘몽</td>\n",
       "      <td>가슴이  아련하고  슬프다</td>\n",
       "    </tr>\n",
       "    <tr>\n",
       "      <th>25917</th>\n",
       "      <td>후회하지 않아</td>\n",
       "      <td>걍 좀아련하구 맘 아프고 기억에남는영화</td>\n",
       "    </tr>\n",
       "    <tr>\n",
       "      <th>19403</th>\n",
       "      <td>마오의 라스트 댄서</td>\n",
       "      <td>진한 감동을 받은 좋은 영화입니다</td>\n",
       "    </tr>\n",
       "    <tr>\n",
       "      <th>10281</th>\n",
       "      <td>뷰티 인사이드</td>\n",
       "      <td>잔잔한 여운이 남는 영화</td>\n",
       "    </tr>\n",
       "    <tr>\n",
       "      <th>17306</th>\n",
       "      <td>베스트 엑조틱 메리골드 호텔</td>\n",
       "      <td>잔잔하면서 여운이 남네요</td>\n",
       "    </tr>\n",
       "    <tr>\n",
       "      <th>26301</th>\n",
       "      <td>유레루</td>\n",
       "      <td>잔잔하면서 여운이 남는다</td>\n",
       "    </tr>\n",
       "    <tr>\n",
       "      <th>5357</th>\n",
       "      <td>기억의 밤</td>\n",
       "      <td>좋은 시나리오 배우연기들 그리고  아련함</td>\n",
       "    </tr>\n",
       "    <tr>\n",
       "      <th>11170</th>\n",
       "      <td>세인트 빈센트</td>\n",
       "      <td>오랜만에 잔잔한 감동과 여운이 남던 영화</td>\n",
       "    </tr>\n",
       "    <tr>\n",
       "      <th>16731</th>\n",
       "      <td>터치</td>\n",
       "      <td>초반에 살짝 지루했지만 깊은 여운이 남는 영화</td>\n",
       "    </tr>\n",
       "    <tr>\n",
       "      <th>25832</th>\n",
       "      <td>무지개 여신</td>\n",
       "      <td>지루하다고 생각할수 잇지만 나에게는 감성적인 아련한 그런영화</td>\n",
       "    </tr>\n",
       "  </tbody>\n",
       "</table>\n",
       "</div>"
      ],
      "text/plain": [
       "                    영화명                                 리뷰\n",
       "17554          할머니는 일학년            진한 감동의 여운이 잔잔하게 밀려드는 영화\n",
       "5678                 루터             마음에 진한 감동과 여운이 남는 영화네요\n",
       "16754              늑대소년         동화같은 영화 보고나면 진한 여운이 가득 남는다\n",
       "24096          연을 쫓는 아이            연은 서로를 이어주는 피보다 진한 것이였다\n",
       "10547           우먼 인 골드              진한 여운을 주는 예술 영화 추천합니다\n",
       "28323               거미숲              아련하기도 하고 정말 인상깊은 공포영화\n",
       "23079  더 폴: 오디어스와 환상의 문                      아름다운영상 아련한이야기\n",
       "25171           초속5센티미터                      첫사랑의  아련한  기억\n",
       "27956               클로저               우연히 보게됐지만 깊은 여운을 남겼다\n",
       "30513          번지점프를 하다                  여운이 깊게 남는 아름다운 영화\n",
       "7850                 춘몽                     가슴이  아련하고  슬프다\n",
       "25917           후회하지 않아              걍 좀아련하구 맘 아프고 기억에남는영화\n",
       "19403        마오의 라스트 댄서                 진한 감동을 받은 좋은 영화입니다\n",
       "10281           뷰티 인사이드                      잔잔한 여운이 남는 영화\n",
       "17306   베스트 엑조틱 메리골드 호텔                      잔잔하면서 여운이 남네요\n",
       "26301               유레루                      잔잔하면서 여운이 남는다\n",
       "5357              기억의 밤             좋은 시나리오 배우연기들 그리고  아련함\n",
       "11170           세인트 빈센트             오랜만에 잔잔한 감동과 여운이 남던 영화\n",
       "16731                터치          초반에 살짝 지루했지만 깊은 여운이 남는 영화\n",
       "25832            무지개 여신  지루하다고 생각할수 잇지만 나에게는 감성적인 아련한 그런영화"
      ]
     },
     "execution_count": 17,
     "metadata": {},
     "output_type": "execute_result"
    }
   ],
   "source": [
    "getRecommendation1()"
   ]
  },
  {
   "cell_type": "code",
   "execution_count": null,
   "metadata": {},
   "outputs": [],
   "source": []
  }
 ],
 "metadata": {
  "kernelspec": {
   "display_name": "Python 3 (ipykernel)",
   "language": "python",
   "name": "python3"
  },
  "language_info": {
   "codemirror_mode": {
    "name": "ipython",
    "version": 3
   },
   "file_extension": ".py",
   "mimetype": "text/x-python",
   "name": "python",
   "nbconvert_exporter": "python",
   "pygments_lexer": "ipython3",
   "version": "3.9.7"
  }
 },
 "nbformat": 4,
 "nbformat_minor": 2
}
