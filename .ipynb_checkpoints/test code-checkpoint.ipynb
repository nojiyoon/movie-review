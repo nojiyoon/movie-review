{
 "cells": [
  {
   "cell_type": "code",
   "execution_count": 1,
   "id": "0efc1bd5",
   "metadata": {},
   "outputs": [
    {
     "data": {
      "text/html": [
       "<div>\n",
       "<style scoped>\n",
       "    .dataframe tbody tr th:only-of-type {\n",
       "        vertical-align: middle;\n",
       "    }\n",
       "\n",
       "    .dataframe tbody tr th {\n",
       "        vertical-align: top;\n",
       "    }\n",
       "\n",
       "    .dataframe thead th {\n",
       "        text-align: right;\n",
       "    }\n",
       "</style>\n",
       "<table border=\"1\" class=\"dataframe\">\n",
       "  <thead>\n",
       "    <tr style=\"text-align: right;\">\n",
       "      <th></th>\n",
       "      <th>movie</th>\n",
       "      <th>sentence</th>\n",
       "      <th>score</th>\n",
       "    </tr>\n",
       "  </thead>\n",
       "  <tbody>\n",
       "    <tr>\n",
       "      <th>0</th>\n",
       "      <td>모비우스</td>\n",
       "      <td>믿고보는 마블스토리 ㅋ</td>\n",
       "      <td>10</td>\n",
       "    </tr>\n",
       "    <tr>\n",
       "      <th>1</th>\n",
       "      <td>블랙라이트</td>\n",
       "      <td>액션을 기대하고 봤다면 반대. 연기를 기대하고 봤다면 끝까지</td>\n",
       "      <td>7</td>\n",
       "    </tr>\n",
       "    <tr>\n",
       "      <th>2</th>\n",
       "      <td>모비우스</td>\n",
       "      <td>사전정보 없이 봤는데 러닝타임 내내 시간 가는 줄 모르게 봤습니다</td>\n",
       "      <td>10</td>\n",
       "    </tr>\n",
       "    <tr>\n",
       "      <th>3</th>\n",
       "      <td>모비우스</td>\n",
       "      <td>미쳤다.. 내 시간 순삭 당하고 옴</td>\n",
       "      <td>10</td>\n",
       "    </tr>\n",
       "    <tr>\n",
       "      <th>4</th>\n",
       "      <td>모비우스</td>\n",
       "      <td>이 영화는 한마디로 헤리포터+제다이(스타워즈)+호빗+스타트렉  4가지의 영화를 합친...</td>\n",
       "      <td>10</td>\n",
       "    </tr>\n",
       "  </tbody>\n",
       "</table>\n",
       "</div>"
      ],
      "text/plain": [
       "   movie                                           sentence  score\n",
       "0   모비우스                                       믿고보는 마블스토리 ㅋ     10\n",
       "1  블랙라이트                  액션을 기대하고 봤다면 반대. 연기를 기대하고 봤다면 끝까지      7\n",
       "2   모비우스               사전정보 없이 봤는데 러닝타임 내내 시간 가는 줄 모르게 봤습니다     10\n",
       "3   모비우스                                미쳤다.. 내 시간 순삭 당하고 옴     10\n",
       "4   모비우스  이 영화는 한마디로 헤리포터+제다이(스타워즈)+호빗+스타트렉  4가지의 영화를 합친...     10"
      ]
     },
     "execution_count": 1,
     "metadata": {},
     "output_type": "execute_result"
    }
   ],
   "source": [
    "import pandas as pd\n",
    "from sklearn.feature_extraction.text import TfidfVectorizer\n",
    "from sklearn.metrics.pairwise import cosine_similarity\n",
    "\n",
    "df = pd.read_csv('./dataset/naver_movie_content_9000.csv', low_memory=False)\n",
    "df.head()"
   ]
  },
  {
   "cell_type": "code",
   "execution_count": 2,
   "id": "586a1c7f",
   "metadata": {},
   "outputs": [
    {
     "data": {
      "text/html": [
       "<div>\n",
       "<style scoped>\n",
       "    .dataframe tbody tr th:only-of-type {\n",
       "        vertical-align: middle;\n",
       "    }\n",
       "\n",
       "    .dataframe tbody tr th {\n",
       "        vertical-align: top;\n",
       "    }\n",
       "\n",
       "    .dataframe thead th {\n",
       "        text-align: right;\n",
       "    }\n",
       "</style>\n",
       "<table border=\"1\" class=\"dataframe\">\n",
       "  <thead>\n",
       "    <tr style=\"text-align: right;\">\n",
       "      <th></th>\n",
       "      <th>movie</th>\n",
       "      <th>sentence</th>\n",
       "      <th>score</th>\n",
       "    </tr>\n",
       "  </thead>\n",
       "  <tbody>\n",
       "    <tr>\n",
       "      <th>9368</th>\n",
       "      <td>기묘한 가족</td>\n",
       "      <td>스토리도 좋고 두시간 내내웃은 영화는 이게처음이다 이런게 백만가야지</td>\n",
       "      <td>10</td>\n",
       "    </tr>\n",
       "    <tr>\n",
       "      <th>9369</th>\n",
       "      <td>로마의 휴일</td>\n",
       "      <td>어느포인트에서 웃길지 모르는 감독과 어느포인트에서 웃어야 할지 모르는 관객과의 팽팽...</td>\n",
       "      <td>2</td>\n",
       "    </tr>\n",
       "    <tr>\n",
       "      <th>9370</th>\n",
       "      <td>위크엔드 어웨이</td>\n",
       "      <td>시간 순삭이네요 재밌게 봤어요</td>\n",
       "      <td>10</td>\n",
       "    </tr>\n",
       "    <tr>\n",
       "      <th>9371</th>\n",
       "      <td>크루엘라</td>\n",
       "      <td>후반부가 살짝 느슨한 느낌이었지만 재밌음! 엔딩이 뭔가 싶었는데 2가 나온다고 함.</td>\n",
       "      <td>9</td>\n",
       "    </tr>\n",
       "    <tr>\n",
       "      <th>9372</th>\n",
       "      <td>스펜서</td>\n",
       "      <td>크리스틴 스튜어트가 연기를 이렇게 잘하는지 몰랐어요... 영상미도 좋고 추천합니다....</td>\n",
       "      <td>10</td>\n",
       "    </tr>\n",
       "  </tbody>\n",
       "</table>\n",
       "</div>"
      ],
      "text/plain": [
       "         movie                                           sentence  score\n",
       "9368    기묘한 가족              스토리도 좋고 두시간 내내웃은 영화는 이게처음이다 이런게 백만가야지     10\n",
       "9369    로마의 휴일  어느포인트에서 웃길지 모르는 감독과 어느포인트에서 웃어야 할지 모르는 관객과의 팽팽...      2\n",
       "9370  위크엔드 어웨이                                   시간 순삭이네요 재밌게 봤어요     10\n",
       "9371      크루엘라     후반부가 살짝 느슨한 느낌이었지만 재밌음! 엔딩이 뭔가 싶었는데 2가 나온다고 함.      9\n",
       "9372       스펜서  크리스틴 스튜어트가 연기를 이렇게 잘하는지 몰랐어요... 영상미도 좋고 추천합니다....     10"
      ]
     },
     "execution_count": 2,
     "metadata": {},
     "output_type": "execute_result"
    }
   ],
   "source": [
    "df.tail()"
   ]
  },
  {
   "cell_type": "code",
   "execution_count": 3,
   "id": "a9251e4e",
   "metadata": {},
   "outputs": [
    {
     "data": {
      "text/html": [
       "<div>\n",
       "<style scoped>\n",
       "    .dataframe tbody tr th:only-of-type {\n",
       "        vertical-align: middle;\n",
       "    }\n",
       "\n",
       "    .dataframe tbody tr th {\n",
       "        vertical-align: top;\n",
       "    }\n",
       "\n",
       "    .dataframe thead th {\n",
       "        text-align: right;\n",
       "    }\n",
       "</style>\n",
       "<table border=\"1\" class=\"dataframe\">\n",
       "  <thead>\n",
       "    <tr style=\"text-align: right;\">\n",
       "      <th></th>\n",
       "      <th>score</th>\n",
       "    </tr>\n",
       "  </thead>\n",
       "  <tbody>\n",
       "    <tr>\n",
       "      <th>count</th>\n",
       "      <td>9373.000000</td>\n",
       "    </tr>\n",
       "    <tr>\n",
       "      <th>mean</th>\n",
       "      <td>7.456097</td>\n",
       "    </tr>\n",
       "    <tr>\n",
       "      <th>std</th>\n",
       "      <td>3.008155</td>\n",
       "    </tr>\n",
       "    <tr>\n",
       "      <th>min</th>\n",
       "      <td>1.000000</td>\n",
       "    </tr>\n",
       "    <tr>\n",
       "      <th>25%</th>\n",
       "      <td>6.000000</td>\n",
       "    </tr>\n",
       "    <tr>\n",
       "      <th>50%</th>\n",
       "      <td>8.000000</td>\n",
       "    </tr>\n",
       "    <tr>\n",
       "      <th>75%</th>\n",
       "      <td>10.000000</td>\n",
       "    </tr>\n",
       "    <tr>\n",
       "      <th>max</th>\n",
       "      <td>10.000000</td>\n",
       "    </tr>\n",
       "  </tbody>\n",
       "</table>\n",
       "</div>"
      ],
      "text/plain": [
       "             score\n",
       "count  9373.000000\n",
       "mean      7.456097\n",
       "std       3.008155\n",
       "min       1.000000\n",
       "25%       6.000000\n",
       "50%       8.000000\n",
       "75%      10.000000\n",
       "max      10.000000"
      ]
     },
     "execution_count": 3,
     "metadata": {},
     "output_type": "execute_result"
    }
   ],
   "source": [
    "df.describe()"
   ]
  },
  {
   "cell_type": "code",
   "execution_count": 4,
   "id": "2c95d5f7",
   "metadata": {},
   "outputs": [
    {
     "data": {
      "text/plain": [
       "<AxesSubplot:>"
      ]
     },
     "execution_count": 4,
     "metadata": {},
     "output_type": "execute_result"
    },
    {
     "data": {
      "image/png": "[encoded data removed]",
      "text/plain": [
       "<Figure size 432x288 with 1 Axes>"
      ]
     },
     "metadata": {
      "needs_background": "light"
     },
     "output_type": "display_data"
    }
   ],
   "source": [
    "df.score.hist()"
   ]
  },
  {
   "cell_type": "code",
   "execution_count": 5,
   "id": "59a1b1a4",
   "metadata": {},
   "outputs": [
    {
     "data": {
      "text/html": [
       "<div>\n",
       "<style scoped>\n",
       "    .dataframe tbody tr th:only-of-type {\n",
       "        vertical-align: middle;\n",
       "    }\n",
       "\n",
       "    .dataframe tbody tr th {\n",
       "        vertical-align: top;\n",
       "    }\n",
       "\n",
       "    .dataframe thead th {\n",
       "        text-align: right;\n",
       "    }\n",
       "</style>\n",
       "<table border=\"1\" class=\"dataframe\">\n",
       "  <thead>\n",
       "    <tr style=\"text-align: right;\">\n",
       "      <th></th>\n",
       "      <th>movie</th>\n",
       "      <th>sentence</th>\n",
       "      <th>score</th>\n",
       "      <th>label</th>\n",
       "    </tr>\n",
       "  </thead>\n",
       "  <tbody>\n",
       "    <tr>\n",
       "      <th>0</th>\n",
       "      <td>모비우스</td>\n",
       "      <td>믿고보는 마블스토리 ㅋ</td>\n",
       "      <td>10</td>\n",
       "      <td>1</td>\n",
       "    </tr>\n",
       "    <tr>\n",
       "      <th>1</th>\n",
       "      <td>블랙라이트</td>\n",
       "      <td>액션을 기대하고 봤다면 반대. 연기를 기대하고 봤다면 끝까지</td>\n",
       "      <td>7</td>\n",
       "      <td>0</td>\n",
       "    </tr>\n",
       "    <tr>\n",
       "      <th>2</th>\n",
       "      <td>모비우스</td>\n",
       "      <td>사전정보 없이 봤는데 러닝타임 내내 시간 가는 줄 모르게 봤습니다</td>\n",
       "      <td>10</td>\n",
       "      <td>1</td>\n",
       "    </tr>\n",
       "    <tr>\n",
       "      <th>3</th>\n",
       "      <td>모비우스</td>\n",
       "      <td>미쳤다.. 내 시간 순삭 당하고 옴</td>\n",
       "      <td>10</td>\n",
       "      <td>1</td>\n",
       "    </tr>\n",
       "    <tr>\n",
       "      <th>4</th>\n",
       "      <td>모비우스</td>\n",
       "      <td>이 영화는 한마디로 헤리포터+제다이(스타워즈)+호빗+스타트렉  4가지의 영화를 합친...</td>\n",
       "      <td>10</td>\n",
       "      <td>1</td>\n",
       "    </tr>\n",
       "  </tbody>\n",
       "</table>\n",
       "</div>"
      ],
      "text/plain": [
       "   movie                                           sentence  score  label\n",
       "0   모비우스                                       믿고보는 마블스토리 ㅋ     10      1\n",
       "1  블랙라이트                  액션을 기대하고 봤다면 반대. 연기를 기대하고 봤다면 끝까지      7      0\n",
       "2   모비우스               사전정보 없이 봤는데 러닝타임 내내 시간 가는 줄 모르게 봤습니다     10      1\n",
       "3   모비우스                                미쳤다.. 내 시간 순삭 당하고 옴     10      1\n",
       "4   모비우스  이 영화는 한마디로 헤리포터+제다이(스타워즈)+호빗+스타트렉  4가지의 영화를 합친...     10      1"
      ]
     },
     "execution_count": 5,
     "metadata": {},
     "output_type": "execute_result"
    }
   ],
   "source": [
    "# 긍정이 1, 부정이 0\n",
    "df['label'] = 0\n",
    "df.loc[df['score'] >= 8, 'label'] = 1\n",
    "df.head()"
   ]
  },
  {
   "cell_type": "code",
   "execution_count": 8,
   "id": "31d461c0",
   "metadata": {},
   "outputs": [],
   "source": [
    "df.to_csv('./dataset/naver_movie_content_9000_label.csv', index=False)"
   ]
  },
  {
   "cell_type": "code",
   "execution_count": 9,
   "id": "b94e5034",
   "metadata": {},
   "outputs": [],
   "source": [
    "df = pd.read_csv('./dataset/naver_movie_content_9000_label.csv')"
   ]
  },
  {
   "cell_type": "code",
   "execution_count": 10,
   "id": "e28899d6",
   "metadata": {},
   "outputs": [
    {
     "data": {
      "text/html": [
       "<div>\n",
       "<style scoped>\n",
       "    .dataframe tbody tr th:only-of-type {\n",
       "        vertical-align: middle;\n",
       "    }\n",
       "\n",
       "    .dataframe tbody tr th {\n",
       "        vertical-align: top;\n",
       "    }\n",
       "\n",
       "    .dataframe thead th {\n",
       "        text-align: right;\n",
       "    }\n",
       "</style>\n",
       "<table border=\"1\" class=\"dataframe\">\n",
       "  <thead>\n",
       "    <tr style=\"text-align: right;\">\n",
       "      <th></th>\n",
       "      <th>movie</th>\n",
       "      <th>sentence</th>\n",
       "      <th>score</th>\n",
       "      <th>label</th>\n",
       "    </tr>\n",
       "  </thead>\n",
       "  <tbody>\n",
       "    <tr>\n",
       "      <th>0</th>\n",
       "      <td>모비우스</td>\n",
       "      <td>믿고보는 마블스토리 ㅋ</td>\n",
       "      <td>10</td>\n",
       "      <td>1</td>\n",
       "    </tr>\n",
       "    <tr>\n",
       "      <th>1</th>\n",
       "      <td>블랙라이트</td>\n",
       "      <td>액션을 기대하고 봤다면 반대. 연기를 기대하고 봤다면 끝까지</td>\n",
       "      <td>7</td>\n",
       "      <td>0</td>\n",
       "    </tr>\n",
       "    <tr>\n",
       "      <th>2</th>\n",
       "      <td>모비우스</td>\n",
       "      <td>사전정보 없이 봤는데 러닝타임 내내 시간 가는 줄 모르게 봤습니다</td>\n",
       "      <td>10</td>\n",
       "      <td>1</td>\n",
       "    </tr>\n",
       "    <tr>\n",
       "      <th>3</th>\n",
       "      <td>모비우스</td>\n",
       "      <td>미쳤다.. 내 시간 순삭 당하고 옴</td>\n",
       "      <td>10</td>\n",
       "      <td>1</td>\n",
       "    </tr>\n",
       "    <tr>\n",
       "      <th>4</th>\n",
       "      <td>모비우스</td>\n",
       "      <td>이 영화는 한마디로 헤리포터+제다이(스타워즈)+호빗+스타트렉  4가지의 영화를 합친...</td>\n",
       "      <td>10</td>\n",
       "      <td>1</td>\n",
       "    </tr>\n",
       "  </tbody>\n",
       "</table>\n",
       "</div>"
      ],
      "text/plain": [
       "   movie                                           sentence  score  label\n",
       "0   모비우스                                       믿고보는 마블스토리 ㅋ     10      1\n",
       "1  블랙라이트                  액션을 기대하고 봤다면 반대. 연기를 기대하고 봤다면 끝까지      7      0\n",
       "2   모비우스               사전정보 없이 봤는데 러닝타임 내내 시간 가는 줄 모르게 봤습니다     10      1\n",
       "3   모비우스                                미쳤다.. 내 시간 순삭 당하고 옴     10      1\n",
       "4   모비우스  이 영화는 한마디로 헤리포터+제다이(스타워즈)+호빗+스타트렉  4가지의 영화를 합친...     10      1"
      ]
     },
     "execution_count": 10,
     "metadata": {},
     "output_type": "execute_result"
    }
   ],
   "source": [
    "df.head()"
   ]
  },
  {
   "cell_type": "code",
   "execution_count": 11,
   "id": "7aa45e2a",
   "metadata": {},
   "outputs": [
    {
     "name": "stdout",
     "output_type": "stream",
     "text": [
      "<class 'pandas.core.frame.DataFrame'>\n",
      "RangeIndex: 9373 entries, 0 to 9372\n",
      "Data columns (total 4 columns):\n",
      " #   Column    Non-Null Count  Dtype \n",
      "---  ------    --------------  ----- \n",
      " 0   movie     9373 non-null   object\n",
      " 1   sentence  9373 non-null   object\n",
      " 2   score     9373 non-null   int64 \n",
      " 3   label     9373 non-null   int64 \n",
      "dtypes: int64(2), object(2)\n",
      "memory usage: 293.0+ KB\n"
     ]
    }
   ],
   "source": [
    "df.info()"
   ]
  },
  {
   "cell_type": "code",
   "execution_count": 12,
   "id": "5d28eaa7",
   "metadata": {
    "scrolled": true
   },
   "outputs": [
    {
     "data": {
      "text/plain": [
       "1    5805\n",
       "0    3568\n",
       "Name: label, dtype: int64"
      ]
     },
     "execution_count": 12,
     "metadata": {},
     "output_type": "execute_result"
    }
   ],
   "source": [
    "df.label.value_counts()"
   ]
  },
  {
   "cell_type": "code",
   "execution_count": 13,
   "id": "eea88655",
   "metadata": {},
   "outputs": [],
   "source": [
    "stopwords = []"
   ]
  },
  {
   "cell_type": "code",
   "execution_count": 14,
   "id": "bfc65a75",
   "metadata": {
    "scrolled": true
   },
   "outputs": [
    {
     "name": "stdout",
     "output_type": "stream",
     "text": [
      "TF-IDF 행렬의 크기(shape) : (9373, 42053)\n"
     ]
    }
   ],
   "source": [
    "tfidf = TfidfVectorizer(stop_words=stopwords)\n",
    "tfidf_matrix = tfidf.fit_transform(df['sentence'])\n",
    "print('TF-IDF 행렬의 크기(shape) :',tfidf_matrix.shape)"
   ]
  },
  {
   "cell_type": "code",
   "execution_count": 15,
   "id": "456d6409",
   "metadata": {},
   "outputs": [
    {
     "name": "stdout",
     "output_type": "stream",
     "text": [
      "코사인 유사도 연산 결과 : (9373, 9373)\n"
     ]
    }
   ],
   "source": [
    "cosine_sim = cosine_similarity(tfidf_matrix, tfidf_matrix)\n",
    "print('코사인 유사도 연산 결과 :',cosine_sim.shape)"
   ]
  },
  {
   "cell_type": "code",
   "execution_count": 16,
   "id": "de8c1b0d",
   "metadata": {},
   "outputs": [],
   "source": [
    "sim_scores = list(enumerate(cosine_sim[0]))"
   ]
  },
  {
   "cell_type": "code",
   "execution_count": 17,
   "id": "83540457",
   "metadata": {},
   "outputs": [],
   "source": [
    "sim_scores = sorted(sim_scores, key=lambda x:x[1], reverse=True)"
   ]
  },
  {
   "cell_type": "code",
   "execution_count": 18,
   "id": "3f6d0571",
   "metadata": {},
   "outputs": [],
   "source": [
    "# 상위 5개 영화\n",
    "sim_scores = sim_scores[1:6]"
   ]
  },
  {
   "cell_type": "code",
   "execution_count": 19,
   "id": "534033ca",
   "metadata": {},
   "outputs": [],
   "source": [
    "movie_indices = [idx[0] for idx in sim_scores]"
   ]
  },
  {
   "cell_type": "code",
   "execution_count": 20,
   "id": "2a142af9",
   "metadata": {},
   "outputs": [
    {
     "data": {
      "text/html": [
       "<div>\n",
       "<style scoped>\n",
       "    .dataframe tbody tr th:only-of-type {\n",
       "        vertical-align: middle;\n",
       "    }\n",
       "\n",
       "    .dataframe tbody tr th {\n",
       "        vertical-align: top;\n",
       "    }\n",
       "\n",
       "    .dataframe thead th {\n",
       "        text-align: right;\n",
       "    }\n",
       "</style>\n",
       "<table border=\"1\" class=\"dataframe\">\n",
       "  <thead>\n",
       "    <tr style=\"text-align: right;\">\n",
       "      <th></th>\n",
       "      <th>movie</th>\n",
       "      <th>sentence</th>\n",
       "      <th>score</th>\n",
       "      <th>label</th>\n",
       "    </tr>\n",
       "  </thead>\n",
       "  <tbody>\n",
       "    <tr>\n",
       "      <th>8905</th>\n",
       "      <td>이상한 나라의 수학자</td>\n",
       "      <td>믿고보는 최민식의 연기</td>\n",
       "      <td>8</td>\n",
       "      <td>1</td>\n",
       "    </tr>\n",
       "    <tr>\n",
       "      <th>8865</th>\n",
       "      <td>해적: 도깨비 깃발</td>\n",
       "      <td>믿고보는 강하늘 역시 짱</td>\n",
       "      <td>8</td>\n",
       "      <td>1</td>\n",
       "    </tr>\n",
       "    <tr>\n",
       "      <th>834</th>\n",
       "      <td>블랙라이트</td>\n",
       "      <td>역시 믿고보는 리암리슨!!</td>\n",
       "      <td>10</td>\n",
       "      <td>1</td>\n",
       "    </tr>\n",
       "    <tr>\n",
       "      <th>5833</th>\n",
       "      <td>미션 임파서블: 로그네이션</td>\n",
       "      <td>역시 믿고보는 미션임파서블입니당</td>\n",
       "      <td>10</td>\n",
       "      <td>1</td>\n",
       "    </tr>\n",
       "    <tr>\n",
       "      <th>3515</th>\n",
       "      <td>이상한 나라의 수학자</td>\n",
       "      <td>신선한 스토리에 믿고보는 배우들</td>\n",
       "      <td>8</td>\n",
       "      <td>1</td>\n",
       "    </tr>\n",
       "  </tbody>\n",
       "</table>\n",
       "</div>"
      ],
      "text/plain": [
       "               movie           sentence  score  label\n",
       "8905     이상한 나라의 수학자       믿고보는 최민식의 연기      8      1\n",
       "8865      해적: 도깨비 깃발      믿고보는 강하늘 역시 짱      8      1\n",
       "834            블랙라이트     역시 믿고보는 리암리슨!!     10      1\n",
       "5833  미션 임파서블: 로그네이션  역시 믿고보는 미션임파서블입니당     10      1\n",
       "3515     이상한 나라의 수학자  신선한 스토리에 믿고보는 배우들      8      1"
      ]
     },
     "execution_count": 20,
     "metadata": {},
     "output_type": "execute_result"
    }
   ],
   "source": [
    "df.iloc[movie_indices]"
   ]
  },
  {
   "cell_type": "code",
   "execution_count": 21,
   "id": "9e78081c",
   "metadata": {},
   "outputs": [],
   "source": [
    "def get_similar_review(idx, cosine_sim=cosine_sim):\n",
    "    # 해당 리뷰와 모든 리뷰와의 유사도를 가져온다.\n",
    "    sim_scores = list(enumerate(cosine_sim[idx]))\n",
    "\n",
    "    # 유사도에 따라 영화들을 정렬한다.\n",
    "    sim_scores = sorted(sim_scores, key=lambda x: x[1], reverse=True)\n",
    "\n",
    "    # 가장 유사한 5개의 영화를 받아온다.\n",
    "    sim_scores = sim_scores[1:6]\n",
    "\n",
    "    # 가장 유사한 10개의 영화의 인덱스를 얻는다.\n",
    "    movie_indices = [idx[0] for idx in sim_scores]\n",
    "\n",
    "    # 가장 유사한 10개의 영화의 제목을 리턴한다.\n",
    "    return df.iloc[idx], df.iloc[movie_indices]"
   ]
  },
  {
   "cell_type": "code",
   "execution_count": 22,
   "id": "a098c557",
   "metadata": {},
   "outputs": [],
   "source": [
    "original_review, similar_review = get_similar_review(0)"
   ]
  },
  {
   "cell_type": "code",
   "execution_count": 23,
   "id": "101dc450",
   "metadata": {},
   "outputs": [
    {
     "data": {
      "text/plain": [
       "movie               모비우스\n",
       "sentence    믿고보는 마블스토리 ㅋ\n",
       "score                 10\n",
       "label                  1\n",
       "Name: 0, dtype: object"
      ]
     },
     "execution_count": 23,
     "metadata": {},
     "output_type": "execute_result"
    }
   ],
   "source": [
    "original_review"
   ]
  },
  {
   "cell_type": "code",
   "execution_count": 24,
   "id": "75e84ef7",
   "metadata": {},
   "outputs": [
    {
     "data": {
      "text/html": [
       "<div>\n",
       "<style scoped>\n",
       "    .dataframe tbody tr th:only-of-type {\n",
       "        vertical-align: middle;\n",
       "    }\n",
       "\n",
       "    .dataframe tbody tr th {\n",
       "        vertical-align: top;\n",
       "    }\n",
       "\n",
       "    .dataframe thead th {\n",
       "        text-align: right;\n",
       "    }\n",
       "</style>\n",
       "<table border=\"1\" class=\"dataframe\">\n",
       "  <thead>\n",
       "    <tr style=\"text-align: right;\">\n",
       "      <th></th>\n",
       "      <th>movie</th>\n",
       "      <th>sentence</th>\n",
       "      <th>score</th>\n",
       "      <th>label</th>\n",
       "    </tr>\n",
       "  </thead>\n",
       "  <tbody>\n",
       "    <tr>\n",
       "      <th>8905</th>\n",
       "      <td>이상한 나라의 수학자</td>\n",
       "      <td>믿고보는 최민식의 연기</td>\n",
       "      <td>8</td>\n",
       "      <td>1</td>\n",
       "    </tr>\n",
       "    <tr>\n",
       "      <th>8865</th>\n",
       "      <td>해적: 도깨비 깃발</td>\n",
       "      <td>믿고보는 강하늘 역시 짱</td>\n",
       "      <td>8</td>\n",
       "      <td>1</td>\n",
       "    </tr>\n",
       "    <tr>\n",
       "      <th>834</th>\n",
       "      <td>블랙라이트</td>\n",
       "      <td>역시 믿고보는 리암리슨!!</td>\n",
       "      <td>10</td>\n",
       "      <td>1</td>\n",
       "    </tr>\n",
       "    <tr>\n",
       "      <th>5833</th>\n",
       "      <td>미션 임파서블: 로그네이션</td>\n",
       "      <td>역시 믿고보는 미션임파서블입니당</td>\n",
       "      <td>10</td>\n",
       "      <td>1</td>\n",
       "    </tr>\n",
       "    <tr>\n",
       "      <th>3515</th>\n",
       "      <td>이상한 나라의 수학자</td>\n",
       "      <td>신선한 스토리에 믿고보는 배우들</td>\n",
       "      <td>8</td>\n",
       "      <td>1</td>\n",
       "    </tr>\n",
       "  </tbody>\n",
       "</table>\n",
       "</div>"
      ],
      "text/plain": [
       "               movie           sentence  score  label\n",
       "8905     이상한 나라의 수학자       믿고보는 최민식의 연기      8      1\n",
       "8865      해적: 도깨비 깃발      믿고보는 강하늘 역시 짱      8      1\n",
       "834            블랙라이트     역시 믿고보는 리암리슨!!     10      1\n",
       "5833  미션 임파서블: 로그네이션  역시 믿고보는 미션임파서블입니당     10      1\n",
       "3515     이상한 나라의 수학자  신선한 스토리에 믿고보는 배우들      8      1"
      ]
     },
     "execution_count": 24,
     "metadata": {},
     "output_type": "execute_result"
    }
   ],
   "source": [
    "similar_review"
   ]
  },
  {
   "cell_type": "code",
   "execution_count": 25,
   "id": "3deb5f18",
   "metadata": {},
   "outputs": [
    {
     "data": {
      "text/html": [
       "<div>\n",
       "<style scoped>\n",
       "    .dataframe tbody tr th:only-of-type {\n",
       "        vertical-align: middle;\n",
       "    }\n",
       "\n",
       "    .dataframe tbody tr th {\n",
       "        vertical-align: top;\n",
       "    }\n",
       "\n",
       "    .dataframe thead th {\n",
       "        text-align: right;\n",
       "    }\n",
       "</style>\n",
       "<table border=\"1\" class=\"dataframe\">\n",
       "  <thead>\n",
       "    <tr style=\"text-align: right;\">\n",
       "      <th></th>\n",
       "      <th>movie</th>\n",
       "      <th>sentence</th>\n",
       "      <th>score</th>\n",
       "      <th>label</th>\n",
       "    </tr>\n",
       "  </thead>\n",
       "  <tbody>\n",
       "    <tr>\n",
       "      <th>9369</th>\n",
       "      <td>로마의 휴일</td>\n",
       "      <td>어느포인트에서 웃길지 모르는 감독과 어느포인트에서 웃어야 할지 모르는 관객과의 팽팽...</td>\n",
       "      <td>2</td>\n",
       "      <td>0.0</td>\n",
       "    </tr>\n",
       "    <tr>\n",
       "      <th>9370</th>\n",
       "      <td>위크엔드 어웨이</td>\n",
       "      <td>시간 순삭이네요 재밌게 봤어요</td>\n",
       "      <td>10</td>\n",
       "      <td>1.0</td>\n",
       "    </tr>\n",
       "    <tr>\n",
       "      <th>9371</th>\n",
       "      <td>크루엘라</td>\n",
       "      <td>후반부가 살짝 느슨한 느낌이었지만 재밌음! 엔딩이 뭔가 싶었는데 2가 나온다고 함.</td>\n",
       "      <td>9</td>\n",
       "      <td>1.0</td>\n",
       "    </tr>\n",
       "    <tr>\n",
       "      <th>9372</th>\n",
       "      <td>스펜서</td>\n",
       "      <td>크리스틴 스튜어트가 연기를 이렇게 잘하는지 몰랐어요... 영상미도 좋고 추천합니다....</td>\n",
       "      <td>10</td>\n",
       "      <td>1.0</td>\n",
       "    </tr>\n",
       "    <tr>\n",
       "      <th>9373</th>\n",
       "      <td>이상한 나라의 수학자</td>\n",
       "      <td>정말 재미없다. 시간이 아깝다</td>\n",
       "      <td>3</td>\n",
       "      <td>NaN</td>\n",
       "    </tr>\n",
       "  </tbody>\n",
       "</table>\n",
       "</div>"
      ],
      "text/plain": [
       "            movie                                           sentence  score  \\\n",
       "9369       로마의 휴일  어느포인트에서 웃길지 모르는 감독과 어느포인트에서 웃어야 할지 모르는 관객과의 팽팽...      2   \n",
       "9370     위크엔드 어웨이                                   시간 순삭이네요 재밌게 봤어요     10   \n",
       "9371         크루엘라     후반부가 살짝 느슨한 느낌이었지만 재밌음! 엔딩이 뭔가 싶었는데 2가 나온다고 함.      9   \n",
       "9372          스펜서  크리스틴 스튜어트가 연기를 이렇게 잘하는지 몰랐어요... 영상미도 좋고 추천합니다....     10   \n",
       "9373  이상한 나라의 수학자                                   정말 재미없다. 시간이 아깝다      3   \n",
       "\n",
       "      label  \n",
       "9369    0.0  \n",
       "9370    1.0  \n",
       "9371    1.0  \n",
       "9372    1.0  \n",
       "9373    NaN  "
      ]
     },
     "execution_count": 25,
     "metadata": {},
     "output_type": "execute_result"
    }
   ],
   "source": [
    "my_review = {'movie': '이상한 나라의 수학자',\n",
    "             'sentence': '정말 재미없다. 시간이 아깝다',\n",
    "             'score': 3}\n",
    "\n",
    "df.loc[len(df)] = my_review\n",
    "df.tail()"
   ]
  },
  {
   "cell_type": "code",
   "execution_count": 26,
   "id": "7460c4a4",
   "metadata": {},
   "outputs": [],
   "source": [
    "def get_similar_review(idx=len(df)-1, cosine_sim=cosine_sim):\n",
    "    tfidf_matrix = tfidf.fit_transform(df['sentence'])\n",
    "    \n",
    "    cosine_sim = cosine_similarity(tfidf_matrix, tfidf_matrix)\n",
    "    \n",
    "    # 해당 리뷰와 모든 리뷰와의 유사도를 가져온다.\n",
    "    sim_scores = list(enumerate(cosine_sim[idx]))\n",
    "\n",
    "    # 유사도에 따라 영화들을 정렬한다.\n",
    "    sim_scores = sorted(sim_scores, key=lambda x: x[1], reverse=True)\n",
    "\n",
    "    # 가장 유사한 5개의 영화를 받아온다.\n",
    "    sim_scores = sim_scores[1:6]\n",
    "\n",
    "    # 가장 유사한 10개의 영화의 인덱스를 얻는다.\n",
    "    movie_indices = [idx[0] for idx in sim_scores]\n",
    "    \n",
    "    # 유사도 점수를 얻는다\n",
    "    review_scores = [idx[1].round(2) for idx in sim_scores]\n",
    "\n",
    "    # 가장 유사한 10개의 영화의 제목을 리턴한다.\n",
    "    return df.iloc[idx], df.iloc[movie_indices], review_scores"
   ]
  },
  {
   "cell_type": "code",
   "execution_count": null,
   "id": "f9555480",
   "metadata": {},
   "outputs": [],
   "source": [
    "original_review, similar_review, review_scores = get_similar_review()"
   ]
  },
  {
   "cell_type": "code",
   "execution_count": null,
   "id": "2f4dfd75",
   "metadata": {},
   "outputs": [],
   "source": [
    "original_review"
   ]
  },
  {
   "cell_type": "code",
   "execution_count": null,
   "id": "73a4cb49",
   "metadata": {},
   "outputs": [],
   "source": [
    "similar_review"
   ]
  },
  {
   "cell_type": "code",
   "execution_count": null,
   "id": "8b447c75",
   "metadata": {},
   "outputs": [],
   "source": [
    "similar_review['similarity'] = review_scores"
   ]
  },
  {
   "cell_type": "code",
   "execution_count": null,
   "id": "e83f2dae",
   "metadata": {},
   "outputs": [],
   "source": [
    "similar_review"
   ]
  },
  {
   "cell_type": "code",
   "execution_count": null,
   "id": "964f02d2",
   "metadata": {},
   "outputs": [],
   "source": []
  },
  {
   "cell_type": "code",
   "execution_count": null,
   "id": "ae96ea6c",
   "metadata": {},
   "outputs": [],
   "source": []
  },
  {
   "cell_type": "code",
   "execution_count": null,
   "id": "e268038c",
   "metadata": {},
   "outputs": [],
   "source": []
  },
  {
   "cell_type": "code",
   "execution_count": null,
   "id": "4a49c0d9",
   "metadata": {},
   "outputs": [],
   "source": []
  },
  {
   "cell_type": "code",
   "execution_count": null,
   "id": "5efdef3f",
   "metadata": {},
   "outputs": [],
   "source": []
  },
  {
   "cell_type": "code",
   "execution_count": null,
   "id": "e6804f89",
   "metadata": {},
   "outputs": [],
   "source": [
    "import re\n",
    "from konlpy.tag import Mecab\n",
    "from tensorflow.keras.preprocessing.text import Tokenizer\n",
    "from tensorflow.keras.preprocessing.sequence import pad_sequences\n",
    "from tensorflow.keras.models import load_model\n",
    "\n",
    "mecab = Mecab(\"C://mecab/mecab-ko-dic\")\n",
    "tokenizer = Tokenizer(500) \n",
    "loaded_model = load_model('./model/sentiment_test.h5')"
   ]
  },
  {
   "cell_type": "code",
   "execution_count": null,
   "id": "357f1e3d",
   "metadata": {},
   "outputs": [],
   "source": [
    "import pickle\n",
    "with open('./model/tokenizer_test.pickle', 'rb') as f:\n",
    "    tokenizer = pickle.load(f)"
   ]
  },
  {
   "cell_type": "code",
   "execution_count": null,
   "id": "a38f45bf",
   "metadata": {},
   "outputs": [],
   "source": [
    "print(tokenizer.word_index)"
   ]
  },
  {
   "cell_type": "code",
   "execution_count": null,
   "id": "bb1919d9",
   "metadata": {},
   "outputs": [],
   "source": [
    "def review_predict(review1):\n",
    "    # 1 한글 데이터가 아닌 값들 제거 \n",
    "    new_review = re.sub(r'[^ㄱ-ㅎㅏ-ㅣ가-힣 ]', '', review1)\n",
    "    # 2. 토큰화\n",
    "#     new_review = okt.morphs(new_review, stem=True)\n",
    "    new_review = mecab.morphs(new_review)\n",
    "    print(new_review)\n",
    "    # 3. 불용어 제거\n",
    "    new_review = [word for word in new_review if not word in stopwords]\n",
    "#     print(new_review)\n",
    "    # 4. Embedding 처리 (text -> sequences)\n",
    "    new_review = tokenizer.texts_to_sequences([new_review])\n",
    "#    print(new_review)\n",
    "#     print(new_review)\n",
    "    # 5. padding -> 길이 값을 맞추기 위해 \n",
    "    padding_review = pad_sequences(new_review, maxlen=30)\n",
    "#    print(padding_review)\n",
    "    # 6. predcit \n",
    "    score = float(loaded_model.predict(padding_review))\n",
    "#     print(score)\n",
    "    # 7. 결과 값 판단 \n",
    "    if score > 0.5:\n",
    "        print(\"{:.2f}% 확률로 긍정 리뷰\".format(score * 100))\n",
    "    else:\n",
    "        print(\"{:.2f}% 확률로 부정 리뷰\".format((1- score) * 100))"
   ]
  },
  {
   "cell_type": "code",
   "execution_count": null,
   "id": "1d1fd3c5",
   "metadata": {
    "scrolled": true
   },
   "outputs": [],
   "source": [
    "review_predict(\"솔직히 두 주인공의 감정이입이 안되다보니 아무느낌 없습니다\")"
   ]
  },
  {
   "cell_type": "code",
   "execution_count": null,
   "id": "c8da3a85",
   "metadata": {},
   "outputs": [],
   "source": [
    "my_review['sentence']"
   ]
  },
  {
   "cell_type": "code",
   "execution_count": null,
   "id": "849e7e32",
   "metadata": {},
   "outputs": [],
   "source": [
    "review_predict(my_review['sentence'])"
   ]
  },
  {
   "cell_type": "code",
   "execution_count": null,
   "id": "66a0c5cd",
   "metadata": {},
   "outputs": [],
   "source": [
    "review_predict('....')"
   ]
  },
  {
   "cell_type": "code",
   "execution_count": null,
   "id": "744fcb4e",
   "metadata": {},
   "outputs": [],
   "source": []
  },
  {
   "cell_type": "code",
   "execution_count": null,
   "id": "4055f025",
   "metadata": {},
   "outputs": [],
   "source": []
  },
  {
   "cell_type": "code",
   "execution_count": null,
   "id": "f8b4950b",
   "metadata": {},
   "outputs": [],
   "source": []
  },
  {
   "cell_type": "code",
   "execution_count": null,
   "id": "e4db386a",
   "metadata": {},
   "outputs": [],
   "source": []
  },
  {
   "cell_type": "code",
   "execution_count": null,
   "id": "8cbc8faf",
   "metadata": {},
   "outputs": [],
   "source": []
  },
  {
   "cell_type": "code",
   "execution_count": null,
   "id": "e3bea9bc",
   "metadata": {},
   "outputs": [],
   "source": [
    "similar_review['sentence'].iloc[0] + ' ' + similar_review['sentence'].iloc[1]"
   ]
  },
  {
   "cell_type": "code",
   "execution_count": null,
   "id": "f1c9a049",
   "metadata": {},
   "outputs": [],
   "source": [
    "from wordcloud import WordCloud\n",
    "from konlpy.tag import Twitter\n",
    "from collections import Counter\n",
    "\n",
    "# 비슷한 리뷰 5개\n",
    "text = []\n",
    "text = [similar_review['sentence'].iloc[idx] for idx in range(len(similar_review))]\n",
    "text = ' '.join(text)\n",
    "print(text)\n",
    "\n",
    "# twitter함수를 통해 읽어들인 내용의 형태소를 분석한다.\n",
    "sentences_tag = []\n",
    "sentences_tag = mecab.pos(text) \n",
    "print(sentences_tag)\n",
    "\n",
    "noun_adj_list = []\n",
    "\n",
    "\n",
    "# tag가 명사이거나 형용사인 단어들만 noun_adj_list에 넣어준다.\n",
    "for word, tag in sentences_tag:\n",
    "    if tag in ['NNG' , 'VA']: \n",
    "        noun_adj_list.append(word)\n",
    "\n",
    "print(noun_adj_list)\n",
    "\n",
    "        \n",
    "\n",
    "# 가장 많이 나온 단어부터 40개를 저장한다.\n",
    "counts = Counter(noun_adj_list)\n",
    "tags = counts.most_common(40) \n",
    "\n",
    "\n",
    "# WordCloud를 생성한다.\n",
    "# 한글을 분석하기위해 font를 한글로 지정해주어야 된다. macOS는 .otf , window는 .ttf 파일의 위치를\n",
    "# 지정해준다. (ex. '/Font/GodoM.otf')\n",
    "wc = WordCloud(font_path='malgun.ttf',background_color=\"white\", max_font_size=60)\n",
    "cloud = wc.generate_from_frequencies(dict(tags))\n",
    "\n",
    "\n",
    "# 생성된 WordCloud를 test.jpg로 보낸다.\n",
    "cloud.to_file('test.jpg')"
   ]
  },
  {
   "cell_type": "code",
   "execution_count": null,
   "id": "0f1e5c56",
   "metadata": {},
   "outputs": [],
   "source": [
    "import matplotlib.pyplot as plt\n",
    "\n",
    "plt.figure(figsize=(10, 8))\n",
    "plt.axis('off')\n",
    "plt.imshow(cloud)\n",
    "plt.show()"
   ]
  },
  {
   "cell_type": "code",
   "execution_count": null,
   "id": "054a16e4",
   "metadata": {},
   "outputs": [],
   "source": []
  }
 ],
 "metadata": {
  "kernelspec": {
   "display_name": "Python 3 (ipykernel)",
   "language": "python",
   "name": "python3"
  },
  "language_info": {
   "codemirror_mode": {
    "name": "ipython",
    "version": 3
   },
   "file_extension": ".py",
   "mimetype": "text/x-python",
   "name": "python",
   "nbconvert_exporter": "python",
   "pygments_lexer": "ipython3",
   "version": "3.9.7"
  }
 },
 "nbformat": 4,
 "nbformat_minor": 5
}
