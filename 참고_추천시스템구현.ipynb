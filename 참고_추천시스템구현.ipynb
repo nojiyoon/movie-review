{
 "cells": [
  {
   "cell_type": "code",
   "execution_count": 43,
   "metadata": {},
   "outputs": [],
   "source": [
    "import pandas as pd\n",
    "pd.set_option('display.max_row', 500)\n",
    "pd.set_option('display.max_columns', 100)\n",
    "import numpy as np\n",
    "# np.set_printoptions(threshold=sys.maxsize)\n",
    "# import sys\n",
    "import gensim\n",
    "from gensim.models import Word2Vec\n",
    "from konlpy.tag import Okt # 옛날 Twitter 클래스\n",
    "okt = Okt()\n",
    "import pickle"
   ]
  },
  {
   "cell_type": "code",
   "execution_count": 47,
   "metadata": {},
   "outputs": [
    {
     "data": {
      "text/plain": [
       "[('블랙', 0.8664413690567017),\n",
       " ('코메디', 0.8267970085144043),\n",
       " ('코미디', 0.8015166521072388),\n",
       " ('로멘', 0.7964212894439697),\n",
       " ('틱', 0.7759246826171875),\n",
       " ('정석', 0.7656084895133972),\n",
       " ('코믹', 0.7471161484718323),\n",
       " ('하이틴', 0.7332083582878113),\n",
       " ('미국식', 0.7312376499176025),\n",
       " ('로맨스', 0.7258977293968201)]"
      ]
     },
     "execution_count": 47,
     "metadata": {},
     "output_type": "execute_result"
    }
   ],
   "source": [
    "# Word2Vec 모델 불러오기\n",
    "# embedding_model = gensim.models.Word2Vec.load('./model/word2VecModel')\n",
    "embedding_model = gensim.models.Word2Vec.load('./model/review_word2vec.model')\n",
    "embedding_model.wv.most_similar(\"로맨틱\")"
   ]
  },
  {
   "cell_type": "code",
   "execution_count": 48,
   "metadata": {},
   "outputs": [
    {
     "name": "stdout",
     "output_type": "stream",
     "text": [
      "키워드 입력 : 행복\n"
     ]
    },
    {
     "name": "stderr",
     "output_type": "stream",
     "text": [
      "/var/folders/nd/b06d_kb967j1803rw8hl2vdc0000gn/T/ipykernel_11594/4124204638.py:6: DeprecationWarning: Call to deprecated `most_similar` (Method will be removed in 4.0.0, use self.wv.most_similar() instead).\n",
      "  VecWords = embedding_model.most_similar(positive=[FirstKeyword], topn=100)\n"
     ]
    },
    {
     "data": {
      "text/plain": [
       "['소중',\n",
       " '감사',\n",
       " '따뜻',\n",
       " '마음',\n",
       " '돌아보',\n",
       " '순수',\n",
       " '뭉클',\n",
       " '먹먹',\n",
       " '아련',\n",
       " '씁쓸',\n",
       " '살아가',\n",
       " '응원',\n",
       " '사랑',\n",
       " '가슴',\n",
       " '대성통곡',\n",
       " '삶',\n",
       " '고민',\n",
       " '쓸쓸',\n",
       " '따듯',\n",
       " '위로',\n",
       " '함께',\n",
       " '경험',\n",
       " '애틋',\n",
       " '우울',\n",
       " '부당',\n",
       " '편안',\n",
       " '자신',\n",
       " '깨끗',\n",
       " '울컥',\n",
       " '느끼',\n",
       " '불편']"
      ]
     },
     "execution_count": 48,
     "metadata": {},
     "output_type": "execute_result"
    }
   ],
   "source": [
    "keyword = input(\"키워드 입력 : \") #로맨틱 #아련한\n",
    "keyword = okt.morphs(keyword, stem=True)\n",
    "FirstKeyword = keyword[0]\n",
    "\n",
    "# check embedding result\n",
    "VecWords = embedding_model.most_similar(positive=[FirstKeyword], topn=100)\n",
    "Veclist1 = []\n",
    "for i in range(0,31):\n",
    "    Veclist1.append(VecWords[i][0])\n",
    "Veclist1"
   ]
  },
  {
   "cell_type": "code",
   "execution_count": 49,
   "metadata": {},
   "outputs": [
    {
     "data": {
      "text/plain": [
       "['소중', '감사', '따뜻', '마음', '돌아보', '순수', '뭉클', '먹먹', '아련', '씁쓸']"
      ]
     },
     "execution_count": 49,
     "metadata": {},
     "output_type": "execute_result"
    }
   ],
   "source": [
    "Veclist1[:10]"
   ]
  },
  {
   "cell_type": "code",
   "execution_count": 50,
   "metadata": {},
   "outputs": [
    {
     "name": "stdout",
     "output_type": "stream",
     "text": [
      "키워드 선택 : 가족\n"
     ]
    },
    {
     "name": "stderr",
     "output_type": "stream",
     "text": [
      "/var/folders/nd/b06d_kb967j1803rw8hl2vdc0000gn/T/ipykernel_11594/3653521141.py:6: DeprecationWarning: Call to deprecated `most_similar` (Method will be removed in 4.0.0, use self.wv.most_similar() instead).\n",
      "  VecWords = embedding_model.most_similar(positive=[SecondKeyword], topn=100)\n"
     ]
    },
    {
     "data": {
      "text/plain": [
       "['어른',\n",
       " '아이',\n",
       " '연인',\n",
       " '함께',\n",
       " '연애',\n",
       " '일상',\n",
       " '청춘',\n",
       " '성장',\n",
       " '동물',\n",
       " '어머니',\n",
       " '순수',\n",
       " '동심',\n",
       " '서로',\n",
       " '경험',\n",
       " '아버지',\n",
       " '어린아이',\n",
       " '꿈',\n",
       " '희생',\n",
       " '가정',\n",
       " '우정',\n",
       " '끼리',\n",
       " '시선',\n",
       " '펠릭스',\n",
       " '아픔',\n",
       " '삶',\n",
       " '동화',\n",
       " '이별',\n",
       " '설렘',\n",
       " '미래',\n",
       " '행복',\n",
       " '노년']"
      ]
     },
     "execution_count": 50,
     "metadata": {},
     "output_type": "execute_result"
    }
   ],
   "source": [
    "keyword = input(\"키워드 선택 : \") # 잘생기다 #여운\n",
    "keyword = okt.morphs(keyword, stem=True)\n",
    "SecondKeyword = keyword[0]\n",
    "\n",
    "# check embedding result\n",
    "VecWords = embedding_model.most_similar(positive=[SecondKeyword], topn=100)\n",
    "Veclist2 = []\n",
    "for i in range(0,31):\n",
    "    Veclist2.append(VecWords[i][0])\n",
    "Veclist2"
   ]
  },
  {
   "cell_type": "code",
   "execution_count": 54,
   "metadata": {},
   "outputs": [
    {
     "name": "stdout",
     "output_type": "stream",
     "text": [
      "키워드 선택 : 재미\n"
     ]
    },
    {
     "name": "stderr",
     "output_type": "stream",
     "text": [
      "/var/folders/nd/b06d_kb967j1803rw8hl2vdc0000gn/T/ipykernel_11594/1815937797.py:6: DeprecationWarning: Call to deprecated `most_similar` (Method will be removed in 4.0.0, use self.wv.most_similar() instead).\n",
      "  VecWords = embedding_model.most_similar(positive=[ThirdKeyword], topn=100)\n"
     ]
    },
    {
     "data": {
      "text/plain": [
       "['스릴',\n",
       " '감흥',\n",
       " '임팩트',\n",
       " '잼',\n",
       " '제미',\n",
       " '긴장감',\n",
       " '짜여',\n",
       " '손색',\n",
       " '별거',\n",
       " '군더더기',\n",
       " '스릴감',\n",
       " '어처구니',\n",
       " '볼거리',\n",
       " '볼일',\n",
       " '설득력',\n",
       " '의미',\n",
       " '짜임새',\n",
       " '지루함',\n",
       " '기승전결',\n",
       " '맛',\n",
       " '구석',\n",
       " '아무것',\n",
       " '감',\n",
       " '박진감',\n",
       " '형편',\n",
       " '내용',\n",
       " '아재미',\n",
       " '재미없',\n",
       " '진전',\n",
       " '흥미',\n",
       " '변함']"
      ]
     },
     "execution_count": 54,
     "metadata": {},
     "output_type": "execute_result"
    }
   ],
   "source": [
    "keyword = input(\"키워드 선택 : \") # 매력 #울림\n",
    "keyword = okt.morphs(keyword, stem=True)\n",
    "ThirdKeyword = keyword[0]\n",
    "\n",
    "# check embedding result\n",
    "VecWords = embedding_model.most_similar(positive=[ThirdKeyword], topn=100)\n",
    "Veclist3 = []\n",
    "for i in range(0,31):\n",
    "    Veclist3.append(VecWords[i][0])\n",
    "Veclist3"
   ]
  },
  {
   "cell_type": "code",
   "execution_count": 55,
   "metadata": {},
   "outputs": [
    {
     "data": {
      "text/plain": [
       "47"
      ]
     },
     "execution_count": 55,
     "metadata": {},
     "output_type": "execute_result"
    }
   ],
   "source": [
    "myVec = ([FirstKeyword]+Veclist1[:10])*2 + ([SecondKeyword]+Veclist2[:5])*2 + [ThirdKeyword] + Veclist3[:5]\n",
    "myVec2 = [FirstKeyword]*3+Veclist1+[SecondKeyword]*2+Veclist2[:5]+[ThirdKeyword] + Veclist3[:5]\n",
    "len(myVec2)"
   ]
  },
  {
   "cell_type": "code",
   "execution_count": 56,
   "metadata": {},
   "outputs": [
    {
     "data": {
      "text/plain": [
       "['행복',\n",
       " '행복',\n",
       " '행복',\n",
       " '소중',\n",
       " '감사',\n",
       " '따뜻',\n",
       " '마음',\n",
       " '돌아보',\n",
       " '순수',\n",
       " '뭉클',\n",
       " '먹먹',\n",
       " '아련',\n",
       " '씁쓸',\n",
       " '살아가',\n",
       " '응원',\n",
       " '사랑',\n",
       " '가슴',\n",
       " '대성통곡',\n",
       " '삶',\n",
       " '고민',\n",
       " '쓸쓸',\n",
       " '따듯',\n",
       " '위로',\n",
       " '함께',\n",
       " '경험',\n",
       " '애틋',\n",
       " '우울',\n",
       " '부당',\n",
       " '편안',\n",
       " '자신',\n",
       " '깨끗',\n",
       " '울컥',\n",
       " '느끼',\n",
       " '불편',\n",
       " '가족',\n",
       " '가족',\n",
       " '어른',\n",
       " '아이',\n",
       " '연인',\n",
       " '함께',\n",
       " '연애',\n",
       " '재미',\n",
       " '스릴',\n",
       " '감흥',\n",
       " '임팩트',\n",
       " '잼',\n",
       " '제미']"
      ]
     },
     "execution_count": 56,
     "metadata": {},
     "output_type": "execute_result"
    }
   ],
   "source": [
    "myVec2"
   ]
  },
  {
   "cell_type": "code",
   "execution_count": 9,
   "metadata": {
    "tags": []
   },
   "outputs": [],
   "source": [
    "# load pickle\n",
    "# with open('chat_dict.pickle', 'rb') as f:\n",
    "#     movie_dict = pickle.load(f)\n",
    "\n",
    "# 리뷰 딕셔너리를 데이터프레임으로 만들기\n",
    "\n",
    "# Dict_to_Df = pd.DataFrame(columns=[\"영화명\",\"리뷰\"])\n",
    "# movieSentences = pd.Series()\n",
    "# for key in movie_dict:\n",
    "#         for i in movie_dict.get(key):\n",
    "#             if i != \"\":\n",
    "#                 mydf = pd.Series([key,i], index=[\"영화명\",\"리뷰\"])\n",
    "#                 Dict_to_Df = Dict_to_Df.append(mydf, ignore_index=True)\n",
    "\n",
    "# 저장\n",
    "# Dict_to_Df.to_csv(\"리뷰코사인을위한데이터테이블.csv\",index=False)"
   ]
  },
  {
   "cell_type": "code",
   "execution_count": 10,
   "metadata": {},
   "outputs": [],
   "source": [
    "# mymy['리뷰'].str.len().median() #13\n",
    "# mymyCut =mymy[(mymy['리뷰'].str.len()>12)&(mymy['리뷰'].str.len()<70)]\n",
    "# mymyCut.reset_index( inplace=True, drop=True )\n",
    "# mymyCut"
   ]
  },
  {
   "cell_type": "code",
   "execution_count": 11,
   "metadata": {},
   "outputs": [],
   "source": [
    "# 스탑워즈 불러오기\n",
    "# df = pd.read_csv(\"stopwords728_8.txt\")\n",
    "# stopwords = df.iloc[:,0].unique()\n",
    "# okt = Okt()\n",
    "# mymyCut['word'] = 0\n",
    "# for i in range(0, len(mymyCut)):\n",
    "#     daumReview = mymyCut['리뷰'][i]\n",
    "#     # # 정제된 리뷰로 형태소 테이블 만들기\n",
    "#     sampledf = pd.DataFrame(okt.pos(daumReview, norm=True, stem=True))\n",
    "#     # print(sampledf[1])\n",
    "#     # # 명사, 형용사, 동사만 추출하기\n",
    "#     try:\n",
    "#         sampledf = sampledf[(sampledf[1]=='Noun')|(sampledf[1]=='Adjective')|(sampledf[1]=='Verb')]\n",
    "#         # # 2글자 이상인 단어만 가져와서 리스트 만들기\n",
    "#         spword =\"\"\n",
    "#         for word in sampledf[0]:\n",
    "#             if len(word)>=2:\n",
    "#                 if word not in (stopwords): # 스탑워즈 제외하고 출력하기\n",
    "#                     spword += word\n",
    "#                     spword += \" \"\n",
    "#         # 단어별 등장횟수 세기\n",
    "#         mymyCut['word'][i] = spword\n",
    "#     except KeyError:\n",
    "#         mymyCut['word'][i] = \"\""
   ]
  },
  {
   "cell_type": "code",
   "execution_count": 12,
   "metadata": {},
   "outputs": [],
   "source": [
    "# mymyCut = mymyCut.iloc[:-1,:]"
   ]
  },
  {
   "cell_type": "code",
   "execution_count": 13,
   "metadata": {},
   "outputs": [],
   "source": [
    "# mymyCut.to_csv(\"리뷰코사인을위한데이터테이블2.csv\",index=False)\n",
    "# mymyCut = pd.read_csv(\"리뷰코사인을위한데이터테이블2.csv\")\n",
    "# mymyCut = mymyCut[mymyCut['word'].notnull()]"
   ]
  },
  {
   "cell_type": "code",
   "execution_count": 57,
   "metadata": {},
   "outputs": [],
   "source": [
    "# mymyCut.to_csv('리뷰코사인을위한데이터테이블3.csv', encoding='utf-8-sig', index=False)\n",
    "mymyCut = pd.read_csv(\"./dataset/naver_movie_content_9000_label.csv\")"
   ]
  },
  {
   "cell_type": "code",
   "execution_count": 58,
   "metadata": {},
   "outputs": [
    {
     "data": {
      "text/html": [
       "<div>\n",
       "<style scoped>\n",
       "    .dataframe tbody tr th:only-of-type {\n",
       "        vertical-align: middle;\n",
       "    }\n",
       "\n",
       "    .dataframe tbody tr th {\n",
       "        vertical-align: top;\n",
       "    }\n",
       "\n",
       "    .dataframe thead th {\n",
       "        text-align: right;\n",
       "    }\n",
       "</style>\n",
       "<table border=\"1\" class=\"dataframe\">\n",
       "  <thead>\n",
       "    <tr style=\"text-align: right;\">\n",
       "      <th></th>\n",
       "      <th>movie</th>\n",
       "      <th>sentence</th>\n",
       "      <th>score</th>\n",
       "      <th>label</th>\n",
       "    </tr>\n",
       "  </thead>\n",
       "  <tbody>\n",
       "    <tr>\n",
       "      <th>0</th>\n",
       "      <td>모비우스</td>\n",
       "      <td>믿고보는 마블스토리 ㅋ</td>\n",
       "      <td>10</td>\n",
       "      <td>1</td>\n",
       "    </tr>\n",
       "    <tr>\n",
       "      <th>1</th>\n",
       "      <td>블랙라이트</td>\n",
       "      <td>액션을 기대하고 봤다면 반대. 연기를 기대하고 봤다면 끝까지</td>\n",
       "      <td>7</td>\n",
       "      <td>0</td>\n",
       "    </tr>\n",
       "    <tr>\n",
       "      <th>2</th>\n",
       "      <td>모비우스</td>\n",
       "      <td>사전정보 없이 봤는데 러닝타임 내내 시간 가는 줄 모르게 봤습니다</td>\n",
       "      <td>10</td>\n",
       "      <td>1</td>\n",
       "    </tr>\n",
       "    <tr>\n",
       "      <th>3</th>\n",
       "      <td>모비우스</td>\n",
       "      <td>미쳤다.. 내 시간 순삭 당하고 옴</td>\n",
       "      <td>10</td>\n",
       "      <td>1</td>\n",
       "    </tr>\n",
       "    <tr>\n",
       "      <th>4</th>\n",
       "      <td>모비우스</td>\n",
       "      <td>이 영화는 한마디로 헤리포터+제다이(스타워즈)+호빗+스타트렉  4가지의 영화를 합친...</td>\n",
       "      <td>10</td>\n",
       "      <td>1</td>\n",
       "    </tr>\n",
       "    <tr>\n",
       "      <th>...</th>\n",
       "      <td>...</td>\n",
       "      <td>...</td>\n",
       "      <td>...</td>\n",
       "      <td>...</td>\n",
       "    </tr>\n",
       "    <tr>\n",
       "      <th>9368</th>\n",
       "      <td>기묘한 가족</td>\n",
       "      <td>스토리도 좋고 두시간 내내웃은 영화는 이게처음이다 이런게 백만가야지</td>\n",
       "      <td>10</td>\n",
       "      <td>1</td>\n",
       "    </tr>\n",
       "    <tr>\n",
       "      <th>9369</th>\n",
       "      <td>로마의 휴일</td>\n",
       "      <td>어느포인트에서 웃길지 모르는 감독과 어느포인트에서 웃어야 할지 모르는 관객과의 팽팽...</td>\n",
       "      <td>2</td>\n",
       "      <td>0</td>\n",
       "    </tr>\n",
       "    <tr>\n",
       "      <th>9370</th>\n",
       "      <td>위크엔드 어웨이</td>\n",
       "      <td>시간 순삭이네요 재밌게 봤어요</td>\n",
       "      <td>10</td>\n",
       "      <td>1</td>\n",
       "    </tr>\n",
       "    <tr>\n",
       "      <th>9371</th>\n",
       "      <td>크루엘라</td>\n",
       "      <td>후반부가 살짝 느슨한 느낌이었지만 재밌음! 엔딩이 뭔가 싶었는데 2가 나온다고 함.</td>\n",
       "      <td>9</td>\n",
       "      <td>1</td>\n",
       "    </tr>\n",
       "    <tr>\n",
       "      <th>9372</th>\n",
       "      <td>스펜서</td>\n",
       "      <td>크리스틴 스튜어트가 연기를 이렇게 잘하는지 몰랐어요... 영상미도 좋고 추천합니다....</td>\n",
       "      <td>10</td>\n",
       "      <td>1</td>\n",
       "    </tr>\n",
       "  </tbody>\n",
       "</table>\n",
       "<p>9373 rows × 4 columns</p>\n",
       "</div>"
      ],
      "text/plain": [
       "         movie                                           sentence  score  \\\n",
       "0         모비우스                                       믿고보는 마블스토리 ㅋ     10   \n",
       "1        블랙라이트                  액션을 기대하고 봤다면 반대. 연기를 기대하고 봤다면 끝까지      7   \n",
       "2         모비우스               사전정보 없이 봤는데 러닝타임 내내 시간 가는 줄 모르게 봤습니다     10   \n",
       "3         모비우스                                미쳤다.. 내 시간 순삭 당하고 옴     10   \n",
       "4         모비우스  이 영화는 한마디로 헤리포터+제다이(스타워즈)+호빗+스타트렉  4가지의 영화를 합친...     10   \n",
       "...        ...                                                ...    ...   \n",
       "9368    기묘한 가족              스토리도 좋고 두시간 내내웃은 영화는 이게처음이다 이런게 백만가야지     10   \n",
       "9369    로마의 휴일  어느포인트에서 웃길지 모르는 감독과 어느포인트에서 웃어야 할지 모르는 관객과의 팽팽...      2   \n",
       "9370  위크엔드 어웨이                                   시간 순삭이네요 재밌게 봤어요     10   \n",
       "9371      크루엘라     후반부가 살짝 느슨한 느낌이었지만 재밌음! 엔딩이 뭔가 싶었는데 2가 나온다고 함.      9   \n",
       "9372       스펜서  크리스틴 스튜어트가 연기를 이렇게 잘하는지 몰랐어요... 영상미도 좋고 추천합니다....     10   \n",
       "\n",
       "      label  \n",
       "0         1  \n",
       "1         0  \n",
       "2         1  \n",
       "3         1  \n",
       "4         1  \n",
       "...     ...  \n",
       "9368      1  \n",
       "9369      0  \n",
       "9370      1  \n",
       "9371      1  \n",
       "9372      1  \n",
       "\n",
       "[9373 rows x 4 columns]"
      ]
     },
     "execution_count": 58,
     "metadata": {},
     "output_type": "execute_result"
    }
   ],
   "source": [
    "mymyCut"
   ]
  },
  {
   "cell_type": "markdown",
   "metadata": {},
   "source": [
    "<h2>코사인 유사도"
   ]
  },
  {
   "cell_type": "code",
   "execution_count": 59,
   "metadata": {
    "tags": []
   },
   "outputs": [
    {
     "data": {
      "text/plain": [
       "'행복 행복 행복 소중 감사 따뜻 마음 돌아보 순수 뭉클 먹먹 아련 씁쓸 살아가 응원 사랑 가슴 대성통곡 삶 고민 쓸쓸 따듯 위로 함께 경험 애틋 우울 부당 편안 자신 깨끗 울컥 느끼 불편 가족 가족 어른 아이 연인 함께 연애 재미 스릴 감흥 임팩트 잼 제미 '"
      ]
     },
     "execution_count": 59,
     "metadata": {},
     "output_type": "execute_result"
    }
   ],
   "source": [
    "mysent=\"\"\n",
    "for i in myVec2:\n",
    "    mysent += \"\".join(i)\n",
    "    mysent += \" \"\n",
    "mysent"
   ]
  },
  {
   "cell_type": "code",
   "execution_count": 60,
   "metadata": {},
   "outputs": [
    {
     "data": {
      "text/plain": [
       "movie                                                      입력\n",
       "sentence    행복 행복 행복 소중 감사 따뜻 마음 돌아보 순수 뭉클 먹먹 아련 씁쓸 살아가 응원...\n",
       "score       행복 행복 행복 소중 감사 따뜻 마음 돌아보 순수 뭉클 먹먹 아련 씁쓸 살아가 응원...\n",
       "label                                                     NaN\n",
       "Name: 9373, dtype: object"
      ]
     },
     "execution_count": 60,
     "metadata": {},
     "output_type": "execute_result"
    }
   ],
   "source": [
    "mydf = pd.Series(['입력',mysent,mysent], index=[\"movie\",\"sentence\",\"score\"])\n",
    "mymyCut = mymyCut.append(mydf, ignore_index=True)\n",
    "mymyCut.iloc[-1,:]"
   ]
  },
  {
   "cell_type": "code",
   "execution_count": 61,
   "metadata": {},
   "outputs": [],
   "source": [
    "# TFIDF구하기\n",
    "from sklearn.feature_extraction.text import TfidfVectorizer\n",
    "\n",
    "Tfidf = TfidfVectorizer()\n",
    "Tfidf_matrix = Tfidf.fit_transform(mymyCut['sentence'])"
   ]
  },
  {
   "cell_type": "code",
   "execution_count": 62,
   "metadata": {
    "tags": []
   },
   "outputs": [
    {
     "name": "stdout",
     "output_type": "stream",
     "text": [
      "(9374, 42072)\n"
     ]
    }
   ],
   "source": [
    "print(Tfidf_matrix.shape) # shape 확인"
   ]
  },
  {
   "cell_type": "code",
   "execution_count": 63,
   "metadata": {},
   "outputs": [],
   "source": [
    "from sklearn.metrics.pairwise import linear_kernel\n",
    "cosine_sim = linear_kernel(Tfidf_matrix, Tfidf_matrix)"
   ]
  },
  {
   "cell_type": "code",
   "execution_count": 64,
   "metadata": {},
   "outputs": [],
   "source": [
    "# 제목별 인덱스숫자 테이블 만들기\n",
    "# indices = pd.Series(data.index, index=mymyCut['리뷰']).drop_duplicates()\n",
    "# 추천 함수 생성\n",
    "def getRecommendation1(cosine_sim= cosine_sim):\n",
    "    # idx = indices[title]\n",
    "    simScores = list(enumerate(cosine_sim[-1])) #코사인유사도\n",
    "    # simScores : 튜플 (인덱스,코사인유사도)\n",
    "    simScores = sorted(simScores, key=lambda x: x[1] ,reverse=True)\n",
    "    # 코사인유사도 기준 내림차순 정렬된 튜플중 자기 제외하고 20개 뽑음\n",
    "    simScores = simScores[1:21]\n",
    "    # 상위 20개 영화의 인덱스값 저장\n",
    "    movieidx = [i[0] for i in simScores]\n",
    "    RecMovielist = mymyCut.iloc[movieidx] \n",
    "    return RecMovielist[['movie','sentence','score']]"
   ]
  },
  {
   "cell_type": "code",
   "execution_count": 65,
   "metadata": {},
   "outputs": [
    {
     "data": {
      "text/html": [
       "<div>\n",
       "<style scoped>\n",
       "    .dataframe tbody tr th:only-of-type {\n",
       "        vertical-align: middle;\n",
       "    }\n",
       "\n",
       "    .dataframe tbody tr th {\n",
       "        vertical-align: top;\n",
       "    }\n",
       "\n",
       "    .dataframe thead th {\n",
       "        text-align: right;\n",
       "    }\n",
       "</style>\n",
       "<table border=\"1\" class=\"dataframe\">\n",
       "  <thead>\n",
       "    <tr style=\"text-align: right;\">\n",
       "      <th></th>\n",
       "      <th>movie</th>\n",
       "      <th>sentence</th>\n",
       "      <th>score</th>\n",
       "    </tr>\n",
       "  </thead>\n",
       "  <tbody>\n",
       "    <tr>\n",
       "      <th>2369</th>\n",
       "      <td>씽2게더</td>\n",
       "      <td>유투에 할시까지 고막 행복</td>\n",
       "      <td>8</td>\n",
       "    </tr>\n",
       "    <tr>\n",
       "      <th>1200</th>\n",
       "      <td>터미널</td>\n",
       "      <td>우리가 인생을 살며 마주하게 될 불행,고통,우정,사랑,이별,행복 모든게 담겨있는 영화.</td>\n",
       "      <td>8</td>\n",
       "    </tr>\n",
       "    <tr>\n",
       "      <th>4317</th>\n",
       "      <td>애덤 프로젝트</td>\n",
       "      <td>와 이건진짜 혼자봐도.가족 친근 연인 누구랑봐도 너무 좋은 영화인듯하네요. 너무좋았어요</td>\n",
       "      <td>10</td>\n",
       "    </tr>\n",
       "    <tr>\n",
       "      <th>872</th>\n",
       "      <td>담보</td>\n",
       "      <td>가족. 절대로 잃으면 안되는 것.</td>\n",
       "      <td>7</td>\n",
       "    </tr>\n",
       "    <tr>\n",
       "      <th>2273</th>\n",
       "      <td>러브 앤 몬스터스</td>\n",
       "      <td>애완동물 , 가족 , 아이 , 사랑 , 여행 , 액션 , 모험 , 괴물 까지~^^ ...</td>\n",
       "      <td>10</td>\n",
       "    </tr>\n",
       "    <tr>\n",
       "      <th>3264</th>\n",
       "      <td>이상한 나라의 수학자</td>\n",
       "      <td>중학생 아들과 함께 봤는데 넘 좋았다고 했음.부모랑 함께 보기 좋은 영화임.</td>\n",
       "      <td>10</td>\n",
       "    </tr>\n",
       "    <tr>\n",
       "      <th>5130</th>\n",
       "      <td>벨파스트</td>\n",
       "      <td>아일랜드라는 나라..그리고 이 가족... 짠하고 마음 아프다..한국처럼. 훌륭한 연...</td>\n",
       "      <td>10</td>\n",
       "    </tr>\n",
       "    <tr>\n",
       "      <th>2693</th>\n",
       "      <td>이상한 나라의 수학자</td>\n",
       "      <td>초등 아이 2명과 함께 봤어요. 감동적이고 재미있어요.역시 믿고 보는 최민식 배우 ...</td>\n",
       "      <td>10</td>\n",
       "    </tr>\n",
       "    <tr>\n",
       "      <th>7422</th>\n",
       "      <td>먼 훗날 우리</td>\n",
       "      <td>모든게 다 좋음 인생 가족 삶 잔잔히 전해짐</td>\n",
       "      <td>10</td>\n",
       "    </tr>\n",
       "    <tr>\n",
       "      <th>2811</th>\n",
       "      <td>킹 리차드</td>\n",
       "      <td>보기 드문 스포츠 영화 테니스를 몰라서 걱정했는데 상관 없었고 가슴 따뜻해지는 가족 영화</td>\n",
       "      <td>10</td>\n",
       "    </tr>\n",
       "    <tr>\n",
       "      <th>1455</th>\n",
       "      <td>맨 인 더 다크 2</td>\n",
       "      <td>액션, 스릴, 긴장감 최고</td>\n",
       "      <td>9</td>\n",
       "    </tr>\n",
       "    <tr>\n",
       "      <th>633</th>\n",
       "      <td>코다</td>\n",
       "      <td>서로의 상처를 서로를 사랑하는 마음으로 보듬어주는 가족</td>\n",
       "      <td>10</td>\n",
       "    </tr>\n",
       "    <tr>\n",
       "      <th>97</th>\n",
       "      <td>형</td>\n",
       "      <td>감동이에요. 가족들 함께 보기 좋아요</td>\n",
       "      <td>8</td>\n",
       "    </tr>\n",
       "    <tr>\n",
       "      <th>504</th>\n",
       "      <td>만년이 지나도 변하지 않는 게 있어</td>\n",
       "      <td>다 필요없고 반려동물과 함께 하자</td>\n",
       "      <td>7</td>\n",
       "    </tr>\n",
       "    <tr>\n",
       "      <th>2188</th>\n",
       "      <td>이상한 나라의 수학자</td>\n",
       "      <td>아름다운 이야기와 큰 위로</td>\n",
       "      <td>9</td>\n",
       "    </tr>\n",
       "    <tr>\n",
       "      <th>2691</th>\n",
       "      <td>킹 리차드</td>\n",
       "      <td>가족,인생의 의지,교육에 대한 생각하며 시간가는줄 모르고 재밌게 봤어요.</td>\n",
       "      <td>10</td>\n",
       "    </tr>\n",
       "    <tr>\n",
       "      <th>7435</th>\n",
       "      <td>매미소리</td>\n",
       "      <td>이양희 배우님 소리할때 함께 울었습니다..</td>\n",
       "      <td>10</td>\n",
       "    </tr>\n",
       "    <tr>\n",
       "      <th>1519</th>\n",
       "      <td>거북이 달린다</td>\n",
       "      <td>88000원이 주는 위로</td>\n",
       "      <td>10</td>\n",
       "    </tr>\n",
       "    <tr>\n",
       "      <th>1057</th>\n",
       "      <td>킹 리차드</td>\n",
       "      <td>내 가족, 인종, 사회를 대표하는 인물이 된다는 것의 무거움</td>\n",
       "      <td>8</td>\n",
       "    </tr>\n",
       "    <tr>\n",
       "      <th>4365</th>\n",
       "      <td>모럴센스</td>\n",
       "      <td>나름에 스토리있지만 공감가지않는걸보고있자니 불편</td>\n",
       "      <td>2</td>\n",
       "    </tr>\n",
       "  </tbody>\n",
       "</table>\n",
       "</div>"
      ],
      "text/plain": [
       "                    movie                                           sentence  \\\n",
       "2369                 씽2게더                                     유투에 할시까지 고막 행복   \n",
       "1200                  터미널   우리가 인생을 살며 마주하게 될 불행,고통,우정,사랑,이별,행복 모든게 담겨있는 영화.   \n",
       "4317              애덤 프로젝트   와 이건진짜 혼자봐도.가족 친근 연인 누구랑봐도 너무 좋은 영화인듯하네요. 너무좋았어요   \n",
       "872                    담보                                 가족. 절대로 잃으면 안되는 것.   \n",
       "2273            러브 앤 몬스터스  애완동물 , 가족 , 아이 , 사랑 , 여행 , 액션 , 모험 , 괴물 까지~^^ ...   \n",
       "3264          이상한 나라의 수학자         중학생 아들과 함께 봤는데 넘 좋았다고 했음.부모랑 함께 보기 좋은 영화임.   \n",
       "5130                 벨파스트  아일랜드라는 나라..그리고 이 가족... 짠하고 마음 아프다..한국처럼. 훌륭한 연...   \n",
       "2693          이상한 나라의 수학자  초등 아이 2명과 함께 봤어요. 감동적이고 재미있어요.역시 믿고 보는 최민식 배우 ...   \n",
       "7422              먼 훗날 우리                           모든게 다 좋음 인생 가족 삶 잔잔히 전해짐   \n",
       "2811                킹 리차드  보기 드문 스포츠 영화 테니스를 몰라서 걱정했는데 상관 없었고 가슴 따뜻해지는 가족 영화   \n",
       "1455          맨 인 더 다크 2                                      액션, 스릴, 긴장감 최고   \n",
       "633                    코다                     서로의 상처를 서로를 사랑하는 마음으로 보듬어주는 가족   \n",
       "97                      형                               감동이에요. 가족들 함께 보기 좋아요   \n",
       "504   만년이 지나도 변하지 않는 게 있어                                 다 필요없고 반려동물과 함께 하자   \n",
       "2188          이상한 나라의 수학자                                     아름다운 이야기와 큰 위로   \n",
       "2691                킹 리차드          가족,인생의 의지,교육에 대한 생각하며 시간가는줄 모르고 재밌게 봤어요.    \n",
       "7435                 매미소리                            이양희 배우님 소리할때 함께 울었습니다..   \n",
       "1519              거북이 달린다                                      88000원이 주는 위로   \n",
       "1057                킹 리차드                  내 가족, 인종, 사회를 대표하는 인물이 된다는 것의 무거움   \n",
       "4365                 모럴센스                         나름에 스토리있지만 공감가지않는걸보고있자니 불편   \n",
       "\n",
       "     score  \n",
       "2369     8  \n",
       "1200     8  \n",
       "4317    10  \n",
       "872      7  \n",
       "2273    10  \n",
       "3264    10  \n",
       "5130    10  \n",
       "2693    10  \n",
       "7422    10  \n",
       "2811    10  \n",
       "1455     9  \n",
       "633     10  \n",
       "97       8  \n",
       "504      7  \n",
       "2188     9  \n",
       "2691    10  \n",
       "7435    10  \n",
       "1519    10  \n",
       "1057     8  \n",
       "4365     2  "
      ]
     },
     "execution_count": 65,
     "metadata": {},
     "output_type": "execute_result"
    }
   ],
   "source": [
    "getRecommendation1()"
   ]
  },
  {
   "cell_type": "code",
   "execution_count": null,
   "metadata": {},
   "outputs": [],
   "source": []
  }
 ],
 "metadata": {
  "kernelspec": {
   "display_name": "Python 3 (ipykernel)",
   "language": "python",
   "name": "python3"
  },
  "language_info": {
   "codemirror_mode": {
    "name": "ipython",
    "version": 3
   },
   "file_extension": ".py",
   "mimetype": "text/x-python",
   "name": "python",
   "nbconvert_exporter": "python",
   "pygments_lexer": "ipython3",
   "version": "3.9.7"
  }
 },
 "nbformat": 4,
 "nbformat_minor": 2
}
